{
 "cells": [
  {
   "cell_type": "markdown",
   "id": "current-fairy",
   "metadata": {},
   "source": [
    "## Notes\n",
    "\n",
    "Correlation between gdp and s&p: https://www.learnpythonwithrune.org/pandas-determine-correlation-between-gdp-and-stock-market/\n",
    "\n"
   ]
  },
  {
   "cell_type": "code",
   "execution_count": 4,
   "id": "sunrise-facility",
   "metadata": {},
   "outputs": [
    {
     "data": {
      "text/plain": [
       "Index(['Turnover and volume of sales in wholesale and retail trade - monthly data'], dtype='object')"
      ]
     },
     "execution_count": 4,
     "metadata": {},
     "output_type": "execute_result"
    }
   ],
   "source": [
    "import pandas as pd\n",
    "import requests\n",
    "import json\n",
    "import plotly.graph_objects as go\n",
    "\n",
    "def checkindicator(url):\n",
    "    r= requests.get(url)\n",
    "    r = r.json()\n",
    "    periods = r['series']['docs'][0]['period']\n",
    "    values = r['series']['docs'][0]['value']\n",
    "    dataset = r['series']['docs'][0]['dataset_name']\n",
    "\n",
    "    indicators = pd.DataFrame(values,index=periods)\n",
    "\n",
    "    indicators.columns = [dataset]\n",
    "\n",
    "    return indicators   \n",
    "    \n",
    "#euro_yields_10y = checkindicator('https://api.db.nomics.world/v22/series/Eurostat/irt_euryld_m/M.EA.INS_FWD.CGB_EA.Y10?observations=1')\n",
    "#unemployment = checkindicator('https://api.db.nomics.world/v22/series/Eurostat/une_rt_m/M.NSA.TOTAL.PC_ACT.T.EA19?observations=1')\n",
    "\n",
    "#interest = checkindicator('https://api.db.nomics.world/v22/series/Eurostat/ei_mfir_m/M.NSA.NAP.MF-LTGBY-RT.EU28?observations=1')\n",
    "#inflation = checkindicator('https://api.db.nomics.world/v22/series/WB/WDI/FP.CPI.TOTL.ZG-EU?observations=1')\n",
    "inflation = checkindicator('https://api.db.nomics.world/v22/series/WB/WDI/FP.CPI.TOTL.ZG-IN?observations=1')\n",
    "#inflation.columns\n",
    "\n",
    "\n",
    "GDPgrowth = checkindicator('https://api.db.nomics.world/v22/series/WB/WDI/NY.GDP.MKTP.KD.ZG-IN?observations=1')\n",
    "\n",
    "#monthly_change_retail_trade = checkindicator('https://api.db.nomics.world/v22/series/Eurostat/sts_trtu_m/M.TOVT.G47.CA.PCH_SM.EA19?observations=1')\n",
    "#monthly_change_retail_trade.columns"
   ]
  },
  {
   "cell_type": "code",
   "execution_count": 9,
   "id": "pretty-southwest",
   "metadata": {},
   "outputs": [
    {
     "data": {
      "text/plain": [
       "Index(['1960', '1961', '1962', '1963', '1964', '1965', '1966', '1967', '1968',\n",
       "       '1969', '1970', '1971', '1972', '1973', '1974', '1975', '1976', '1977',\n",
       "       '1978', '1979', '1980', '1981', '1982', '1983', '1984', '1985', '1986',\n",
       "       '1987', '1988', '1989', '1990', '1991', '1992', '1993', '1994', '1995',\n",
       "       '1996', '1997', '1998', '1999', '2000', '2001', '2002', '2003', '2004',\n",
       "       '2005', '2006', '2007', '2008', '2009', '2010', '2011', '2012', '2013',\n",
       "       '2014', '2015', '2016', '2017', '2018', '2019', '2020'],\n",
       "      dtype='object')"
      ]
     },
     "execution_count": 9,
     "metadata": {},
     "output_type": "execute_result"
    }
   ],
   "source": [
    "inflation.index"
   ]
  },
  {
   "cell_type": "code",
   "execution_count": 11,
   "id": "latest-cosmetic",
   "metadata": {},
   "outputs": [],
   "source": [
    "df = pd.read_csv(\"data_in_csv.csv\", index_col=0,parse_dates=True)"
   ]
  },
  {
   "cell_type": "code",
   "execution_count": 42,
   "id": "conventional-commander",
   "metadata": {},
   "outputs": [],
   "source": [
    "def get_year_return(df, year):\n",
    "    first_day = df.loc[year].iloc[0]\n",
    "    last_day = df.loc[year].iloc[-1]\n",
    "    year_return = float((last_day/first_day) - 1)\n",
    "    return year_return"
   ]
  },
  {
   "cell_type": "code",
   "execution_count": 43,
   "id": "sexual-sleep",
   "metadata": {},
   "outputs": [],
   "source": [
    "yearly_returns = []\n",
    "years = []\n",
    "for year in inflation.index:\n",
    "    try:\n",
    "        current_return = get_year_return(df, year)\n",
    "        #print(current_return)\n",
    "        yearly_returns.append(current_return)\n",
    "        years.append(year)\n",
    "    except:\n",
    "        #print(\"Could not get yearly return for year: {}\".format(year))\n",
    "        pass\n",
    "\n",
    "yearly_ret_df = pd.DataFrame({\"yearly_returns\": yearly_returns}, index=years)"
   ]
  },
  {
   "cell_type": "code",
   "execution_count": 55,
   "id": "altered-edwards",
   "metadata": {},
   "outputs": [],
   "source": [
    "yearly_ret_df = yearly_ret_df / 10"
   ]
  },
  {
   "cell_type": "code",
   "execution_count": 56,
   "id": "surrounded-franklin",
   "metadata": {},
   "outputs": [
    {
     "data": {
      "application/vnd.plotly.v1+json": {
       "config": {
        "plotlyServerURL": "https://plot.ly"
       },
       "data": [
        {
         "line": {
          "color": "orange"
         },
         "name": "inflation",
         "opacity": 0.8,
         "type": "scatter",
         "x": [
          "1960",
          "1961",
          "1962",
          "1963",
          "1964",
          "1965",
          "1966",
          "1967",
          "1968",
          "1969",
          "1970",
          "1971",
          "1972",
          "1973",
          "1974",
          "1975",
          "1976",
          "1977",
          "1978",
          "1979",
          "1980",
          "1981",
          "1982",
          "1983",
          "1984",
          "1985",
          "1986",
          "1987",
          "1988",
          "1989",
          "1990",
          "1991",
          "1992",
          "1993",
          "1994",
          "1995",
          "1996",
          "1997",
          "1998",
          "1999",
          "2000",
          "2001",
          "2002",
          "2003",
          "2004",
          "2005",
          "2006",
          "2007",
          "2008",
          "2009",
          "2010",
          "2011",
          "2012",
          "2013",
          "2014",
          "2015",
          "2016",
          "2017",
          "2018",
          "2019",
          "2020"
         ],
         "y": [
          1.74118045584826,
          2.07712948741101,
          3.55350360375607,
          2.92164166264774,
          3.41628039655558,
          3.98661388434155,
          3.7033562981507,
          3.31931754624681,
          3.24282812207261,
          2.67462365971334,
          4.50608892986038,
          5.24097417077837,
          6.00738969862495,
          7.74908612919203,
          13.1636026120795,
          10.4675758306121,
          9.34705279605246,
          9.76746473607034,
          7.75524596278477,
          8.2216869300552,
          12.9114423266382,
          11.7673874344182,
          9.58492764677443,
          8.66927159808515,
          7.6738026224732,
          5.39549731466383,
          3.67818411863458,
          4.01999345683155,
          4.53513301015726,
          6.25983137956973,
          6.14956531179854,
          5.48474275083469,
          6.21737690900003,
          4.85416666666693,
          4.71841328382086,
          4.42664550286656,
          3.55884083117293,
          3.11207791953274,
          2.41551787239232,
          2.15717918055056,
          3.15076707022592,
          3.37396699038281,
          2.42443661219694,
          2.09199838997658,
          2.28621706801675,
          2.48769665164086,
          2.66631494577072,
          2.51066565240339,
          4.1649719352477,
          0.83926224679384,
          1.53112270420924,
          3.28944939564212,
          2.66284165508017,
          1.21999342274305,
          0.199343826570849,
          -0.0616446800641176,
          0.183334861123848,
          1.42910743319297,
          1.73860861988181,
          1.63052260754338,
          0.502028604403418
         ]
        },
        {
         "line": {
          "color": "pink"
         },
         "name": "GDP growth",
         "opacity": 0.8,
         "type": "scatter",
         "x": [
          "1960",
          "1961",
          "1962",
          "1963",
          "1964",
          "1965",
          "1966",
          "1967",
          "1968",
          "1969",
          "1970",
          "1971",
          "1972",
          "1973",
          "1974",
          "1975",
          "1976",
          "1977",
          "1978",
          "1979",
          "1980",
          "1981",
          "1982",
          "1983",
          "1984",
          "1985",
          "1986",
          "1987",
          "1988",
          "1989",
          "1990",
          "1991",
          "1992",
          "1993",
          "1994",
          "1995",
          "1996",
          "1997",
          "1998",
          "1999",
          "2000",
          "2001",
          "2002",
          "2003",
          "2004",
          "2005",
          "2006",
          "2007",
          "2008",
          "2009",
          "2010",
          "2011",
          "2012",
          "2013",
          "2014",
          "2015",
          "2016",
          "2017",
          "2018",
          "2019",
          "2020"
         ],
         "y": [
          "NA",
          "NA",
          "NA",
          "NA",
          "NA",
          "NA",
          "NA",
          "NA",
          "NA",
          "NA",
          "NA",
          3.65995270698232,
          4.78510857323799,
          6.03318350638477,
          3.09914983305156,
          -0.648403581592461,
          4.89765969721161,
          2.8769400886067,
          3.05660927303013,
          3.84491853161275,
          2.07093489668422,
          0.502355946004101,
          0.816194455396641,
          1.44131252537758,
          2.48529638155601,
          2.35056662930484,
          2.5866171609056,
          2.52816374424737,
          4.16830425124233,
          3.92401201614308,
          3.37066821988184,
          1.84129136810365,
          1.16405892758293,
          -0.573912441362936,
          2.64906610224764,
          2.66738996817932,
          1.89217130756212,
          2.6645667961099,
          3.01877492364856,
          2.95859462195483,
          3.90890069501526,
          2.18443172802077,
          1.12317014112575,
          0.929380867117942,
          2.59534264968548,
          1.93483834496035,
          3.49262891024343,
          3.15233368938709,
          0.645831791734167,
          -4.32573931696186,
          2.21061429802943,
          1.81701373960948,
          -0.747025971716496,
          -0.0478238394554324,
          1.57371689308464,
          2.30211242110556,
          2.00664875170833,
          2.80306329867453,
          2.11404920350664,
          1.55972588697249,
          -6.20157283789507
         ]
        },
        {
         "line": {
          "color": "black"
         },
         "name": "Yearly Returns",
         "opacity": 0.8,
         "type": "scatter",
         "x": [
          "2000",
          "2001",
          "2002",
          "2003",
          "2004",
          "2005",
          "2006",
          "2007",
          "2008",
          "2009",
          "2010",
          "2011",
          "2012",
          "2013",
          "2014",
          "2015",
          "2016",
          "2017",
          "2018",
          "2019",
          "2020"
         ],
         "y": [
          -2.1679166924936464,
          -2.3577619030351373,
          0.019886881955848423,
          6.8601033416239146,
          0.6908866678656778,
          4.073678987844209,
          3.611530542210022,
          5.25339956846806,
          -5.446105541654049,
          7.070813161565603,
          1.6964583631250307,
          -2.1683094536463097,
          2.1421085080147972,
          0.49475162687100616,
          3.2031910354765243,
          -0.6365352661262957,
          0.2795358649789037,
          2.774084766733791,
          0.28511627686727214,
          1.4154940409327543,
          1.2453124936102689
         ]
        }
       ],
       "layout": {
        "template": {
         "data": {
          "bar": [
           {
            "error_x": {
             "color": "#2a3f5f"
            },
            "error_y": {
             "color": "#2a3f5f"
            },
            "marker": {
             "line": {
              "color": "#E5ECF6",
              "width": 0.5
             },
             "pattern": {
              "fillmode": "overlay",
              "size": 10,
              "solidity": 0.2
             }
            },
            "type": "bar"
           }
          ],
          "barpolar": [
           {
            "marker": {
             "line": {
              "color": "#E5ECF6",
              "width": 0.5
             },
             "pattern": {
              "fillmode": "overlay",
              "size": 10,
              "solidity": 0.2
             }
            },
            "type": "barpolar"
           }
          ],
          "carpet": [
           {
            "aaxis": {
             "endlinecolor": "#2a3f5f",
             "gridcolor": "white",
             "linecolor": "white",
             "minorgridcolor": "white",
             "startlinecolor": "#2a3f5f"
            },
            "baxis": {
             "endlinecolor": "#2a3f5f",
             "gridcolor": "white",
             "linecolor": "white",
             "minorgridcolor": "white",
             "startlinecolor": "#2a3f5f"
            },
            "type": "carpet"
           }
          ],
          "choropleth": [
           {
            "colorbar": {
             "outlinewidth": 0,
             "ticks": ""
            },
            "type": "choropleth"
           }
          ],
          "contour": [
           {
            "colorbar": {
             "outlinewidth": 0,
             "ticks": ""
            },
            "colorscale": [
             [
              0,
              "#0d0887"
             ],
             [
              0.1111111111111111,
              "#46039f"
             ],
             [
              0.2222222222222222,
              "#7201a8"
             ],
             [
              0.3333333333333333,
              "#9c179e"
             ],
             [
              0.4444444444444444,
              "#bd3786"
             ],
             [
              0.5555555555555556,
              "#d8576b"
             ],
             [
              0.6666666666666666,
              "#ed7953"
             ],
             [
              0.7777777777777778,
              "#fb9f3a"
             ],
             [
              0.8888888888888888,
              "#fdca26"
             ],
             [
              1,
              "#f0f921"
             ]
            ],
            "type": "contour"
           }
          ],
          "contourcarpet": [
           {
            "colorbar": {
             "outlinewidth": 0,
             "ticks": ""
            },
            "type": "contourcarpet"
           }
          ],
          "heatmap": [
           {
            "colorbar": {
             "outlinewidth": 0,
             "ticks": ""
            },
            "colorscale": [
             [
              0,
              "#0d0887"
             ],
             [
              0.1111111111111111,
              "#46039f"
             ],
             [
              0.2222222222222222,
              "#7201a8"
             ],
             [
              0.3333333333333333,
              "#9c179e"
             ],
             [
              0.4444444444444444,
              "#bd3786"
             ],
             [
              0.5555555555555556,
              "#d8576b"
             ],
             [
              0.6666666666666666,
              "#ed7953"
             ],
             [
              0.7777777777777778,
              "#fb9f3a"
             ],
             [
              0.8888888888888888,
              "#fdca26"
             ],
             [
              1,
              "#f0f921"
             ]
            ],
            "type": "heatmap"
           }
          ],
          "heatmapgl": [
           {
            "colorbar": {
             "outlinewidth": 0,
             "ticks": ""
            },
            "colorscale": [
             [
              0,
              "#0d0887"
             ],
             [
              0.1111111111111111,
              "#46039f"
             ],
             [
              0.2222222222222222,
              "#7201a8"
             ],
             [
              0.3333333333333333,
              "#9c179e"
             ],
             [
              0.4444444444444444,
              "#bd3786"
             ],
             [
              0.5555555555555556,
              "#d8576b"
             ],
             [
              0.6666666666666666,
              "#ed7953"
             ],
             [
              0.7777777777777778,
              "#fb9f3a"
             ],
             [
              0.8888888888888888,
              "#fdca26"
             ],
             [
              1,
              "#f0f921"
             ]
            ],
            "type": "heatmapgl"
           }
          ],
          "histogram": [
           {
            "marker": {
             "pattern": {
              "fillmode": "overlay",
              "size": 10,
              "solidity": 0.2
             }
            },
            "type": "histogram"
           }
          ],
          "histogram2d": [
           {
            "colorbar": {
             "outlinewidth": 0,
             "ticks": ""
            },
            "colorscale": [
             [
              0,
              "#0d0887"
             ],
             [
              0.1111111111111111,
              "#46039f"
             ],
             [
              0.2222222222222222,
              "#7201a8"
             ],
             [
              0.3333333333333333,
              "#9c179e"
             ],
             [
              0.4444444444444444,
              "#bd3786"
             ],
             [
              0.5555555555555556,
              "#d8576b"
             ],
             [
              0.6666666666666666,
              "#ed7953"
             ],
             [
              0.7777777777777778,
              "#fb9f3a"
             ],
             [
              0.8888888888888888,
              "#fdca26"
             ],
             [
              1,
              "#f0f921"
             ]
            ],
            "type": "histogram2d"
           }
          ],
          "histogram2dcontour": [
           {
            "colorbar": {
             "outlinewidth": 0,
             "ticks": ""
            },
            "colorscale": [
             [
              0,
              "#0d0887"
             ],
             [
              0.1111111111111111,
              "#46039f"
             ],
             [
              0.2222222222222222,
              "#7201a8"
             ],
             [
              0.3333333333333333,
              "#9c179e"
             ],
             [
              0.4444444444444444,
              "#bd3786"
             ],
             [
              0.5555555555555556,
              "#d8576b"
             ],
             [
              0.6666666666666666,
              "#ed7953"
             ],
             [
              0.7777777777777778,
              "#fb9f3a"
             ],
             [
              0.8888888888888888,
              "#fdca26"
             ],
             [
              1,
              "#f0f921"
             ]
            ],
            "type": "histogram2dcontour"
           }
          ],
          "mesh3d": [
           {
            "colorbar": {
             "outlinewidth": 0,
             "ticks": ""
            },
            "type": "mesh3d"
           }
          ],
          "parcoords": [
           {
            "line": {
             "colorbar": {
              "outlinewidth": 0,
              "ticks": ""
             }
            },
            "type": "parcoords"
           }
          ],
          "pie": [
           {
            "automargin": true,
            "type": "pie"
           }
          ],
          "scatter": [
           {
            "marker": {
             "colorbar": {
              "outlinewidth": 0,
              "ticks": ""
             }
            },
            "type": "scatter"
           }
          ],
          "scatter3d": [
           {
            "line": {
             "colorbar": {
              "outlinewidth": 0,
              "ticks": ""
             }
            },
            "marker": {
             "colorbar": {
              "outlinewidth": 0,
              "ticks": ""
             }
            },
            "type": "scatter3d"
           }
          ],
          "scattercarpet": [
           {
            "marker": {
             "colorbar": {
              "outlinewidth": 0,
              "ticks": ""
             }
            },
            "type": "scattercarpet"
           }
          ],
          "scattergeo": [
           {
            "marker": {
             "colorbar": {
              "outlinewidth": 0,
              "ticks": ""
             }
            },
            "type": "scattergeo"
           }
          ],
          "scattergl": [
           {
            "marker": {
             "colorbar": {
              "outlinewidth": 0,
              "ticks": ""
             }
            },
            "type": "scattergl"
           }
          ],
          "scattermapbox": [
           {
            "marker": {
             "colorbar": {
              "outlinewidth": 0,
              "ticks": ""
             }
            },
            "type": "scattermapbox"
           }
          ],
          "scatterpolar": [
           {
            "marker": {
             "colorbar": {
              "outlinewidth": 0,
              "ticks": ""
             }
            },
            "type": "scatterpolar"
           }
          ],
          "scatterpolargl": [
           {
            "marker": {
             "colorbar": {
              "outlinewidth": 0,
              "ticks": ""
             }
            },
            "type": "scatterpolargl"
           }
          ],
          "scatterternary": [
           {
            "marker": {
             "colorbar": {
              "outlinewidth": 0,
              "ticks": ""
             }
            },
            "type": "scatterternary"
           }
          ],
          "surface": [
           {
            "colorbar": {
             "outlinewidth": 0,
             "ticks": ""
            },
            "colorscale": [
             [
              0,
              "#0d0887"
             ],
             [
              0.1111111111111111,
              "#46039f"
             ],
             [
              0.2222222222222222,
              "#7201a8"
             ],
             [
              0.3333333333333333,
              "#9c179e"
             ],
             [
              0.4444444444444444,
              "#bd3786"
             ],
             [
              0.5555555555555556,
              "#d8576b"
             ],
             [
              0.6666666666666666,
              "#ed7953"
             ],
             [
              0.7777777777777778,
              "#fb9f3a"
             ],
             [
              0.8888888888888888,
              "#fdca26"
             ],
             [
              1,
              "#f0f921"
             ]
            ],
            "type": "surface"
           }
          ],
          "table": [
           {
            "cells": {
             "fill": {
              "color": "#EBF0F8"
             },
             "line": {
              "color": "white"
             }
            },
            "header": {
             "fill": {
              "color": "#C8D4E3"
             },
             "line": {
              "color": "white"
             }
            },
            "type": "table"
           }
          ]
         },
         "layout": {
          "annotationdefaults": {
           "arrowcolor": "#2a3f5f",
           "arrowhead": 0,
           "arrowwidth": 1
          },
          "autotypenumbers": "strict",
          "coloraxis": {
           "colorbar": {
            "outlinewidth": 0,
            "ticks": ""
           }
          },
          "colorscale": {
           "diverging": [
            [
             0,
             "#8e0152"
            ],
            [
             0.1,
             "#c51b7d"
            ],
            [
             0.2,
             "#de77ae"
            ],
            [
             0.3,
             "#f1b6da"
            ],
            [
             0.4,
             "#fde0ef"
            ],
            [
             0.5,
             "#f7f7f7"
            ],
            [
             0.6,
             "#e6f5d0"
            ],
            [
             0.7,
             "#b8e186"
            ],
            [
             0.8,
             "#7fbc41"
            ],
            [
             0.9,
             "#4d9221"
            ],
            [
             1,
             "#276419"
            ]
           ],
           "sequential": [
            [
             0,
             "#0d0887"
            ],
            [
             0.1111111111111111,
             "#46039f"
            ],
            [
             0.2222222222222222,
             "#7201a8"
            ],
            [
             0.3333333333333333,
             "#9c179e"
            ],
            [
             0.4444444444444444,
             "#bd3786"
            ],
            [
             0.5555555555555556,
             "#d8576b"
            ],
            [
             0.6666666666666666,
             "#ed7953"
            ],
            [
             0.7777777777777778,
             "#fb9f3a"
            ],
            [
             0.8888888888888888,
             "#fdca26"
            ],
            [
             1,
             "#f0f921"
            ]
           ],
           "sequentialminus": [
            [
             0,
             "#0d0887"
            ],
            [
             0.1111111111111111,
             "#46039f"
            ],
            [
             0.2222222222222222,
             "#7201a8"
            ],
            [
             0.3333333333333333,
             "#9c179e"
            ],
            [
             0.4444444444444444,
             "#bd3786"
            ],
            [
             0.5555555555555556,
             "#d8576b"
            ],
            [
             0.6666666666666666,
             "#ed7953"
            ],
            [
             0.7777777777777778,
             "#fb9f3a"
            ],
            [
             0.8888888888888888,
             "#fdca26"
            ],
            [
             1,
             "#f0f921"
            ]
           ]
          },
          "colorway": [
           "#636efa",
           "#EF553B",
           "#00cc96",
           "#ab63fa",
           "#FFA15A",
           "#19d3f3",
           "#FF6692",
           "#B6E880",
           "#FF97FF",
           "#FECB52"
          ],
          "font": {
           "color": "#2a3f5f"
          },
          "geo": {
           "bgcolor": "white",
           "lakecolor": "white",
           "landcolor": "#E5ECF6",
           "showlakes": true,
           "showland": true,
           "subunitcolor": "white"
          },
          "hoverlabel": {
           "align": "left"
          },
          "hovermode": "closest",
          "mapbox": {
           "style": "light"
          },
          "paper_bgcolor": "white",
          "plot_bgcolor": "#E5ECF6",
          "polar": {
           "angularaxis": {
            "gridcolor": "white",
            "linecolor": "white",
            "ticks": ""
           },
           "bgcolor": "#E5ECF6",
           "radialaxis": {
            "gridcolor": "white",
            "linecolor": "white",
            "ticks": ""
           }
          },
          "scene": {
           "xaxis": {
            "backgroundcolor": "#E5ECF6",
            "gridcolor": "white",
            "gridwidth": 2,
            "linecolor": "white",
            "showbackground": true,
            "ticks": "",
            "zerolinecolor": "white"
           },
           "yaxis": {
            "backgroundcolor": "#E5ECF6",
            "gridcolor": "white",
            "gridwidth": 2,
            "linecolor": "white",
            "showbackground": true,
            "ticks": "",
            "zerolinecolor": "white"
           },
           "zaxis": {
            "backgroundcolor": "#E5ECF6",
            "gridcolor": "white",
            "gridwidth": 2,
            "linecolor": "white",
            "showbackground": true,
            "ticks": "",
            "zerolinecolor": "white"
           }
          },
          "shapedefaults": {
           "line": {
            "color": "#2a3f5f"
           }
          },
          "ternary": {
           "aaxis": {
            "gridcolor": "white",
            "linecolor": "white",
            "ticks": ""
           },
           "baxis": {
            "gridcolor": "white",
            "linecolor": "white",
            "ticks": ""
           },
           "bgcolor": "#E5ECF6",
           "caxis": {
            "gridcolor": "white",
            "linecolor": "white",
            "ticks": ""
           }
          },
          "title": {
           "x": 0.05
          },
          "xaxis": {
           "automargin": true,
           "gridcolor": "white",
           "linecolor": "white",
           "ticks": "",
           "title": {
            "standoff": 15
           },
           "zerolinecolor": "white",
           "zerolinewidth": 2
          },
          "yaxis": {
           "automargin": true,
           "gridcolor": "white",
           "linecolor": "white",
           "ticks": "",
           "title": {
            "standoff": 15
           },
           "zerolinecolor": "white",
           "zerolinewidth": 2
          }
         }
        },
        "title": {
         "text": "inflation UE, GDP Growth, Nifty50"
        },
        "xaxis": {
         "range": [
          "2003-07-01",
          "2020-12-31"
         ],
         "rangeslider": {
          "visible": true
         }
        }
       }
      },
      "text/html": [
       "<div>                            <div id=\"bf3e5b7e-c3fc-4647-85e2-e5f81a8d6910\" class=\"plotly-graph-div\" style=\"height:525px; width:100%;\"></div>            <script type=\"text/javascript\">                require([\"plotly\"], function(Plotly) {                    window.PLOTLYENV=window.PLOTLYENV || {};                                    if (document.getElementById(\"bf3e5b7e-c3fc-4647-85e2-e5f81a8d6910\")) {                    Plotly.newPlot(                        \"bf3e5b7e-c3fc-4647-85e2-e5f81a8d6910\",                        [{\"line\":{\"color\":\"orange\"},\"name\":\"inflation\",\"opacity\":0.8,\"type\":\"scatter\",\"x\":[\"1960\",\"1961\",\"1962\",\"1963\",\"1964\",\"1965\",\"1966\",\"1967\",\"1968\",\"1969\",\"1970\",\"1971\",\"1972\",\"1973\",\"1974\",\"1975\",\"1976\",\"1977\",\"1978\",\"1979\",\"1980\",\"1981\",\"1982\",\"1983\",\"1984\",\"1985\",\"1986\",\"1987\",\"1988\",\"1989\",\"1990\",\"1991\",\"1992\",\"1993\",\"1994\",\"1995\",\"1996\",\"1997\",\"1998\",\"1999\",\"2000\",\"2001\",\"2002\",\"2003\",\"2004\",\"2005\",\"2006\",\"2007\",\"2008\",\"2009\",\"2010\",\"2011\",\"2012\",\"2013\",\"2014\",\"2015\",\"2016\",\"2017\",\"2018\",\"2019\",\"2020\"],\"y\":[1.74118045584826,2.07712948741101,3.55350360375607,2.92164166264774,3.41628039655558,3.98661388434155,3.7033562981507,3.31931754624681,3.24282812207261,2.67462365971334,4.50608892986038,5.24097417077837,6.00738969862495,7.74908612919203,13.1636026120795,10.4675758306121,9.34705279605246,9.76746473607034,7.75524596278477,8.2216869300552,12.9114423266382,11.7673874344182,9.58492764677443,8.66927159808515,7.6738026224732,5.39549731466383,3.67818411863458,4.01999345683155,4.53513301015726,6.25983137956973,6.14956531179854,5.48474275083469,6.21737690900003,4.85416666666693,4.71841328382086,4.42664550286656,3.55884083117293,3.11207791953274,2.41551787239232,2.15717918055056,3.15076707022592,3.37396699038281,2.42443661219694,2.09199838997658,2.28621706801675,2.48769665164086,2.66631494577072,2.51066565240339,4.1649719352477,0.83926224679384,1.53112270420924,3.28944939564212,2.66284165508017,1.21999342274305,0.199343826570849,-0.0616446800641176,0.183334861123848,1.42910743319297,1.73860861988181,1.63052260754338,0.502028604403418]},{\"line\":{\"color\":\"pink\"},\"name\":\"GDP growth\",\"opacity\":0.8,\"type\":\"scatter\",\"x\":[\"1960\",\"1961\",\"1962\",\"1963\",\"1964\",\"1965\",\"1966\",\"1967\",\"1968\",\"1969\",\"1970\",\"1971\",\"1972\",\"1973\",\"1974\",\"1975\",\"1976\",\"1977\",\"1978\",\"1979\",\"1980\",\"1981\",\"1982\",\"1983\",\"1984\",\"1985\",\"1986\",\"1987\",\"1988\",\"1989\",\"1990\",\"1991\",\"1992\",\"1993\",\"1994\",\"1995\",\"1996\",\"1997\",\"1998\",\"1999\",\"2000\",\"2001\",\"2002\",\"2003\",\"2004\",\"2005\",\"2006\",\"2007\",\"2008\",\"2009\",\"2010\",\"2011\",\"2012\",\"2013\",\"2014\",\"2015\",\"2016\",\"2017\",\"2018\",\"2019\",\"2020\"],\"y\":[\"NA\",\"NA\",\"NA\",\"NA\",\"NA\",\"NA\",\"NA\",\"NA\",\"NA\",\"NA\",\"NA\",3.65995270698232,4.78510857323799,6.03318350638477,3.09914983305156,-0.648403581592461,4.89765969721161,2.8769400886067,3.05660927303013,3.84491853161275,2.07093489668422,0.502355946004101,0.816194455396641,1.44131252537758,2.48529638155601,2.35056662930484,2.5866171609056,2.52816374424737,4.16830425124233,3.92401201614308,3.37066821988184,1.84129136810365,1.16405892758293,-0.573912441362936,2.64906610224764,2.66738996817932,1.89217130756212,2.6645667961099,3.01877492364856,2.95859462195483,3.90890069501526,2.18443172802077,1.12317014112575,0.929380867117942,2.59534264968548,1.93483834496035,3.49262891024343,3.15233368938709,0.645831791734167,-4.32573931696186,2.21061429802943,1.81701373960948,-0.747025971716496,-0.0478238394554324,1.57371689308464,2.30211242110556,2.00664875170833,2.80306329867453,2.11404920350664,1.55972588697249,-6.20157283789507]},{\"line\":{\"color\":\"black\"},\"name\":\"Yearly Returns\",\"opacity\":0.8,\"type\":\"scatter\",\"x\":[\"2000\",\"2001\",\"2002\",\"2003\",\"2004\",\"2005\",\"2006\",\"2007\",\"2008\",\"2009\",\"2010\",\"2011\",\"2012\",\"2013\",\"2014\",\"2015\",\"2016\",\"2017\",\"2018\",\"2019\",\"2020\"],\"y\":[-2.1679166924936464,-2.3577619030351373,0.019886881955848423,6.8601033416239146,0.6908866678656778,4.073678987844209,3.611530542210022,5.25339956846806,-5.446105541654049,7.070813161565603,1.6964583631250307,-2.1683094536463097,2.1421085080147972,0.49475162687100616,3.2031910354765243,-0.6365352661262957,0.2795358649789037,2.774084766733791,0.28511627686727214,1.4154940409327543,1.2453124936102689]}],                        {\"template\":{\"data\":{\"bar\":[{\"error_x\":{\"color\":\"#2a3f5f\"},\"error_y\":{\"color\":\"#2a3f5f\"},\"marker\":{\"line\":{\"color\":\"#E5ECF6\",\"width\":0.5},\"pattern\":{\"fillmode\":\"overlay\",\"size\":10,\"solidity\":0.2}},\"type\":\"bar\"}],\"barpolar\":[{\"marker\":{\"line\":{\"color\":\"#E5ECF6\",\"width\":0.5},\"pattern\":{\"fillmode\":\"overlay\",\"size\":10,\"solidity\":0.2}},\"type\":\"barpolar\"}],\"carpet\":[{\"aaxis\":{\"endlinecolor\":\"#2a3f5f\",\"gridcolor\":\"white\",\"linecolor\":\"white\",\"minorgridcolor\":\"white\",\"startlinecolor\":\"#2a3f5f\"},\"baxis\":{\"endlinecolor\":\"#2a3f5f\",\"gridcolor\":\"white\",\"linecolor\":\"white\",\"minorgridcolor\":\"white\",\"startlinecolor\":\"#2a3f5f\"},\"type\":\"carpet\"}],\"choropleth\":[{\"colorbar\":{\"outlinewidth\":0,\"ticks\":\"\"},\"type\":\"choropleth\"}],\"contour\":[{\"colorbar\":{\"outlinewidth\":0,\"ticks\":\"\"},\"colorscale\":[[0.0,\"#0d0887\"],[0.1111111111111111,\"#46039f\"],[0.2222222222222222,\"#7201a8\"],[0.3333333333333333,\"#9c179e\"],[0.4444444444444444,\"#bd3786\"],[0.5555555555555556,\"#d8576b\"],[0.6666666666666666,\"#ed7953\"],[0.7777777777777778,\"#fb9f3a\"],[0.8888888888888888,\"#fdca26\"],[1.0,\"#f0f921\"]],\"type\":\"contour\"}],\"contourcarpet\":[{\"colorbar\":{\"outlinewidth\":0,\"ticks\":\"\"},\"type\":\"contourcarpet\"}],\"heatmap\":[{\"colorbar\":{\"outlinewidth\":0,\"ticks\":\"\"},\"colorscale\":[[0.0,\"#0d0887\"],[0.1111111111111111,\"#46039f\"],[0.2222222222222222,\"#7201a8\"],[0.3333333333333333,\"#9c179e\"],[0.4444444444444444,\"#bd3786\"],[0.5555555555555556,\"#d8576b\"],[0.6666666666666666,\"#ed7953\"],[0.7777777777777778,\"#fb9f3a\"],[0.8888888888888888,\"#fdca26\"],[1.0,\"#f0f921\"]],\"type\":\"heatmap\"}],\"heatmapgl\":[{\"colorbar\":{\"outlinewidth\":0,\"ticks\":\"\"},\"colorscale\":[[0.0,\"#0d0887\"],[0.1111111111111111,\"#46039f\"],[0.2222222222222222,\"#7201a8\"],[0.3333333333333333,\"#9c179e\"],[0.4444444444444444,\"#bd3786\"],[0.5555555555555556,\"#d8576b\"],[0.6666666666666666,\"#ed7953\"],[0.7777777777777778,\"#fb9f3a\"],[0.8888888888888888,\"#fdca26\"],[1.0,\"#f0f921\"]],\"type\":\"heatmapgl\"}],\"histogram\":[{\"marker\":{\"pattern\":{\"fillmode\":\"overlay\",\"size\":10,\"solidity\":0.2}},\"type\":\"histogram\"}],\"histogram2d\":[{\"colorbar\":{\"outlinewidth\":0,\"ticks\":\"\"},\"colorscale\":[[0.0,\"#0d0887\"],[0.1111111111111111,\"#46039f\"],[0.2222222222222222,\"#7201a8\"],[0.3333333333333333,\"#9c179e\"],[0.4444444444444444,\"#bd3786\"],[0.5555555555555556,\"#d8576b\"],[0.6666666666666666,\"#ed7953\"],[0.7777777777777778,\"#fb9f3a\"],[0.8888888888888888,\"#fdca26\"],[1.0,\"#f0f921\"]],\"type\":\"histogram2d\"}],\"histogram2dcontour\":[{\"colorbar\":{\"outlinewidth\":0,\"ticks\":\"\"},\"colorscale\":[[0.0,\"#0d0887\"],[0.1111111111111111,\"#46039f\"],[0.2222222222222222,\"#7201a8\"],[0.3333333333333333,\"#9c179e\"],[0.4444444444444444,\"#bd3786\"],[0.5555555555555556,\"#d8576b\"],[0.6666666666666666,\"#ed7953\"],[0.7777777777777778,\"#fb9f3a\"],[0.8888888888888888,\"#fdca26\"],[1.0,\"#f0f921\"]],\"type\":\"histogram2dcontour\"}],\"mesh3d\":[{\"colorbar\":{\"outlinewidth\":0,\"ticks\":\"\"},\"type\":\"mesh3d\"}],\"parcoords\":[{\"line\":{\"colorbar\":{\"outlinewidth\":0,\"ticks\":\"\"}},\"type\":\"parcoords\"}],\"pie\":[{\"automargin\":true,\"type\":\"pie\"}],\"scatter\":[{\"marker\":{\"colorbar\":{\"outlinewidth\":0,\"ticks\":\"\"}},\"type\":\"scatter\"}],\"scatter3d\":[{\"line\":{\"colorbar\":{\"outlinewidth\":0,\"ticks\":\"\"}},\"marker\":{\"colorbar\":{\"outlinewidth\":0,\"ticks\":\"\"}},\"type\":\"scatter3d\"}],\"scattercarpet\":[{\"marker\":{\"colorbar\":{\"outlinewidth\":0,\"ticks\":\"\"}},\"type\":\"scattercarpet\"}],\"scattergeo\":[{\"marker\":{\"colorbar\":{\"outlinewidth\":0,\"ticks\":\"\"}},\"type\":\"scattergeo\"}],\"scattergl\":[{\"marker\":{\"colorbar\":{\"outlinewidth\":0,\"ticks\":\"\"}},\"type\":\"scattergl\"}],\"scattermapbox\":[{\"marker\":{\"colorbar\":{\"outlinewidth\":0,\"ticks\":\"\"}},\"type\":\"scattermapbox\"}],\"scatterpolar\":[{\"marker\":{\"colorbar\":{\"outlinewidth\":0,\"ticks\":\"\"}},\"type\":\"scatterpolar\"}],\"scatterpolargl\":[{\"marker\":{\"colorbar\":{\"outlinewidth\":0,\"ticks\":\"\"}},\"type\":\"scatterpolargl\"}],\"scatterternary\":[{\"marker\":{\"colorbar\":{\"outlinewidth\":0,\"ticks\":\"\"}},\"type\":\"scatterternary\"}],\"surface\":[{\"colorbar\":{\"outlinewidth\":0,\"ticks\":\"\"},\"colorscale\":[[0.0,\"#0d0887\"],[0.1111111111111111,\"#46039f\"],[0.2222222222222222,\"#7201a8\"],[0.3333333333333333,\"#9c179e\"],[0.4444444444444444,\"#bd3786\"],[0.5555555555555556,\"#d8576b\"],[0.6666666666666666,\"#ed7953\"],[0.7777777777777778,\"#fb9f3a\"],[0.8888888888888888,\"#fdca26\"],[1.0,\"#f0f921\"]],\"type\":\"surface\"}],\"table\":[{\"cells\":{\"fill\":{\"color\":\"#EBF0F8\"},\"line\":{\"color\":\"white\"}},\"header\":{\"fill\":{\"color\":\"#C8D4E3\"},\"line\":{\"color\":\"white\"}},\"type\":\"table\"}]},\"layout\":{\"annotationdefaults\":{\"arrowcolor\":\"#2a3f5f\",\"arrowhead\":0,\"arrowwidth\":1},\"autotypenumbers\":\"strict\",\"coloraxis\":{\"colorbar\":{\"outlinewidth\":0,\"ticks\":\"\"}},\"colorscale\":{\"diverging\":[[0,\"#8e0152\"],[0.1,\"#c51b7d\"],[0.2,\"#de77ae\"],[0.3,\"#f1b6da\"],[0.4,\"#fde0ef\"],[0.5,\"#f7f7f7\"],[0.6,\"#e6f5d0\"],[0.7,\"#b8e186\"],[0.8,\"#7fbc41\"],[0.9,\"#4d9221\"],[1,\"#276419\"]],\"sequential\":[[0.0,\"#0d0887\"],[0.1111111111111111,\"#46039f\"],[0.2222222222222222,\"#7201a8\"],[0.3333333333333333,\"#9c179e\"],[0.4444444444444444,\"#bd3786\"],[0.5555555555555556,\"#d8576b\"],[0.6666666666666666,\"#ed7953\"],[0.7777777777777778,\"#fb9f3a\"],[0.8888888888888888,\"#fdca26\"],[1.0,\"#f0f921\"]],\"sequentialminus\":[[0.0,\"#0d0887\"],[0.1111111111111111,\"#46039f\"],[0.2222222222222222,\"#7201a8\"],[0.3333333333333333,\"#9c179e\"],[0.4444444444444444,\"#bd3786\"],[0.5555555555555556,\"#d8576b\"],[0.6666666666666666,\"#ed7953\"],[0.7777777777777778,\"#fb9f3a\"],[0.8888888888888888,\"#fdca26\"],[1.0,\"#f0f921\"]]},\"colorway\":[\"#636efa\",\"#EF553B\",\"#00cc96\",\"#ab63fa\",\"#FFA15A\",\"#19d3f3\",\"#FF6692\",\"#B6E880\",\"#FF97FF\",\"#FECB52\"],\"font\":{\"color\":\"#2a3f5f\"},\"geo\":{\"bgcolor\":\"white\",\"lakecolor\":\"white\",\"landcolor\":\"#E5ECF6\",\"showlakes\":true,\"showland\":true,\"subunitcolor\":\"white\"},\"hoverlabel\":{\"align\":\"left\"},\"hovermode\":\"closest\",\"mapbox\":{\"style\":\"light\"},\"paper_bgcolor\":\"white\",\"plot_bgcolor\":\"#E5ECF6\",\"polar\":{\"angularaxis\":{\"gridcolor\":\"white\",\"linecolor\":\"white\",\"ticks\":\"\"},\"bgcolor\":\"#E5ECF6\",\"radialaxis\":{\"gridcolor\":\"white\",\"linecolor\":\"white\",\"ticks\":\"\"}},\"scene\":{\"xaxis\":{\"backgroundcolor\":\"#E5ECF6\",\"gridcolor\":\"white\",\"gridwidth\":2,\"linecolor\":\"white\",\"showbackground\":true,\"ticks\":\"\",\"zerolinecolor\":\"white\"},\"yaxis\":{\"backgroundcolor\":\"#E5ECF6\",\"gridcolor\":\"white\",\"gridwidth\":2,\"linecolor\":\"white\",\"showbackground\":true,\"ticks\":\"\",\"zerolinecolor\":\"white\"},\"zaxis\":{\"backgroundcolor\":\"#E5ECF6\",\"gridcolor\":\"white\",\"gridwidth\":2,\"linecolor\":\"white\",\"showbackground\":true,\"ticks\":\"\",\"zerolinecolor\":\"white\"}},\"shapedefaults\":{\"line\":{\"color\":\"#2a3f5f\"}},\"ternary\":{\"aaxis\":{\"gridcolor\":\"white\",\"linecolor\":\"white\",\"ticks\":\"\"},\"baxis\":{\"gridcolor\":\"white\",\"linecolor\":\"white\",\"ticks\":\"\"},\"bgcolor\":\"#E5ECF6\",\"caxis\":{\"gridcolor\":\"white\",\"linecolor\":\"white\",\"ticks\":\"\"}},\"title\":{\"x\":0.05},\"xaxis\":{\"automargin\":true,\"gridcolor\":\"white\",\"linecolor\":\"white\",\"ticks\":\"\",\"title\":{\"standoff\":15},\"zerolinecolor\":\"white\",\"zerolinewidth\":2},\"yaxis\":{\"automargin\":true,\"gridcolor\":\"white\",\"linecolor\":\"white\",\"ticks\":\"\",\"title\":{\"standoff\":15},\"zerolinecolor\":\"white\",\"zerolinewidth\":2}}},\"title\":{\"text\":\"inflation UE, GDP Growth, Nifty50\"},\"xaxis\":{\"range\":[\"2003-07-01\",\"2020-12-31\"],\"rangeslider\":{\"visible\":true}}},                        {\"responsive\": true}                    ).then(function(){\n",
       "                            \n",
       "var gd = document.getElementById('bf3e5b7e-c3fc-4647-85e2-e5f81a8d6910');\n",
       "var x = new MutationObserver(function (mutations, observer) {{\n",
       "        var display = window.getComputedStyle(gd).display;\n",
       "        if (!display || display === 'none') {{\n",
       "            console.log([gd, 'removed!']);\n",
       "            Plotly.purge(gd);\n",
       "            observer.disconnect();\n",
       "        }}\n",
       "}});\n",
       "\n",
       "// Listen for the removal of the full notebook cells\n",
       "var notebookContainer = gd.closest('#notebook-container');\n",
       "if (notebookContainer) {{\n",
       "    x.observe(notebookContainer, {childList: true});\n",
       "}}\n",
       "\n",
       "// Listen for the clearing of the current output cell\n",
       "var outputEl = gd.closest('.output');\n",
       "if (outputEl) {{\n",
       "    x.observe(outputEl, {childList: true});\n",
       "}}\n",
       "\n",
       "                        })                };                });            </script>        </div>"
      ]
     },
     "metadata": {},
     "output_type": "display_data"
    }
   ],
   "source": [
    "import plotly.graph_objects as go\n",
    "\n",
    "\n",
    "fig = go.Figure()\n",
    "\n",
    "fig.add_trace(go.Scatter(\n",
    "                x=inflation.index,\n",
    "                y=inflation['World Development Indicators'],\n",
    "                name=\"inflation\",\n",
    "                line_color='orange',\n",
    "                opacity=0.8))\n",
    "\n",
    "fig.add_trace(go.Scatter(\n",
    "                x=GDPgrowth.index,\n",
    "                y=GDPgrowth['World Development Indicators'],\n",
    "                name=\"GDP growth\",\n",
    "                line_color='pink',\n",
    "                opacity=0.8))\n",
    "\n",
    "fig.add_trace(go.Scatter(\n",
    "                x=yearly_ret_df.index,\n",
    "                y=yearly_ret_df['yearly_returns'],\n",
    "                name=\"Yearly Returns\",\n",
    "                line_color='black',\n",
    "                opacity=0.8))\n",
    "# Use date string to set xaxis range\n",
    "fig.update_layout(xaxis_range=['2003-07-01','2020-12-31'],\n",
    "                  title_text=\"inflation UE, GDP Growth, Nifty50\",xaxis_rangeslider_visible=True)\n",
    "\n",
    "\n",
    "fig.show()"
   ]
  },
  {
   "cell_type": "code",
   "execution_count": 52,
   "id": "relative-stretch",
   "metadata": {},
   "outputs": [
    {
     "data": {
      "text/html": [
       "<div>\n",
       "<style scoped>\n",
       "    .dataframe tbody tr th:only-of-type {\n",
       "        vertical-align: middle;\n",
       "    }\n",
       "\n",
       "    .dataframe tbody tr th {\n",
       "        vertical-align: top;\n",
       "    }\n",
       "\n",
       "    .dataframe thead th {\n",
       "        text-align: right;\n",
       "    }\n",
       "</style>\n",
       "<table border=\"1\" class=\"dataframe\">\n",
       "  <thead>\n",
       "    <tr style=\"text-align: right;\">\n",
       "      <th></th>\n",
       "      <th>World Development Indicators</th>\n",
       "    </tr>\n",
       "  </thead>\n",
       "  <tbody>\n",
       "    <tr>\n",
       "      <th>2000</th>\n",
       "      <td>3.150767</td>\n",
       "    </tr>\n",
       "    <tr>\n",
       "      <th>2001</th>\n",
       "      <td>3.373967</td>\n",
       "    </tr>\n",
       "    <tr>\n",
       "      <th>2002</th>\n",
       "      <td>2.424437</td>\n",
       "    </tr>\n",
       "    <tr>\n",
       "      <th>2003</th>\n",
       "      <td>2.091998</td>\n",
       "    </tr>\n",
       "    <tr>\n",
       "      <th>2004</th>\n",
       "      <td>2.286217</td>\n",
       "    </tr>\n",
       "    <tr>\n",
       "      <th>2005</th>\n",
       "      <td>2.487697</td>\n",
       "    </tr>\n",
       "    <tr>\n",
       "      <th>2006</th>\n",
       "      <td>2.666315</td>\n",
       "    </tr>\n",
       "    <tr>\n",
       "      <th>2007</th>\n",
       "      <td>2.510666</td>\n",
       "    </tr>\n",
       "    <tr>\n",
       "      <th>2008</th>\n",
       "      <td>4.164972</td>\n",
       "    </tr>\n",
       "    <tr>\n",
       "      <th>2009</th>\n",
       "      <td>0.839262</td>\n",
       "    </tr>\n",
       "    <tr>\n",
       "      <th>2010</th>\n",
       "      <td>1.531123</td>\n",
       "    </tr>\n",
       "    <tr>\n",
       "      <th>2011</th>\n",
       "      <td>3.289449</td>\n",
       "    </tr>\n",
       "    <tr>\n",
       "      <th>2012</th>\n",
       "      <td>2.662842</td>\n",
       "    </tr>\n",
       "    <tr>\n",
       "      <th>2013</th>\n",
       "      <td>1.219993</td>\n",
       "    </tr>\n",
       "    <tr>\n",
       "      <th>2014</th>\n",
       "      <td>0.199344</td>\n",
       "    </tr>\n",
       "    <tr>\n",
       "      <th>2015</th>\n",
       "      <td>-0.061645</td>\n",
       "    </tr>\n",
       "    <tr>\n",
       "      <th>2016</th>\n",
       "      <td>0.183335</td>\n",
       "    </tr>\n",
       "    <tr>\n",
       "      <th>2017</th>\n",
       "      <td>1.429107</td>\n",
       "    </tr>\n",
       "    <tr>\n",
       "      <th>2018</th>\n",
       "      <td>1.738609</td>\n",
       "    </tr>\n",
       "    <tr>\n",
       "      <th>2019</th>\n",
       "      <td>1.630523</td>\n",
       "    </tr>\n",
       "    <tr>\n",
       "      <th>2020</th>\n",
       "      <td>0.502029</td>\n",
       "    </tr>\n",
       "  </tbody>\n",
       "</table>\n",
       "</div>"
      ],
      "text/plain": [
       "      World Development Indicators\n",
       "2000                      3.150767\n",
       "2001                      3.373967\n",
       "2002                      2.424437\n",
       "2003                      2.091998\n",
       "2004                      2.286217\n",
       "2005                      2.487697\n",
       "2006                      2.666315\n",
       "2007                      2.510666\n",
       "2008                      4.164972\n",
       "2009                      0.839262\n",
       "2010                      1.531123\n",
       "2011                      3.289449\n",
       "2012                      2.662842\n",
       "2013                      1.219993\n",
       "2014                      0.199344\n",
       "2015                     -0.061645\n",
       "2016                      0.183335\n",
       "2017                      1.429107\n",
       "2018                      1.738609\n",
       "2019                      1.630523\n",
       "2020                      0.502029"
      ]
     },
     "execution_count": 52,
     "metadata": {},
     "output_type": "execute_result"
    }
   ],
   "source": [
    "inflation.loc[\"2000\":]"
   ]
  },
  {
   "cell_type": "code",
   "execution_count": 49,
   "id": "orange-geology",
   "metadata": {},
   "outputs": [
    {
     "data": {
      "application/vnd.plotly.v1+json": {
       "config": {
        "plotlyServerURL": "https://plot.ly"
       },
       "data": [
        {
         "line": {
          "color": "deepskyblue"
         },
         "name": "interest",
         "opacity": 0.8,
         "type": "scatter",
         "x": [
          "2001-01",
          "2001-02",
          "2001-03",
          "2001-04",
          "2001-05",
          "2001-06",
          "2001-07",
          "2001-08",
          "2001-09",
          "2001-10",
          "2001-11",
          "2001-12",
          "2002-01",
          "2002-02",
          "2002-03",
          "2002-04",
          "2002-05",
          "2002-06",
          "2002-07",
          "2002-08",
          "2002-09",
          "2002-10",
          "2002-11",
          "2002-12",
          "2003-01",
          "2003-02",
          "2003-03",
          "2003-04",
          "2003-05",
          "2003-06",
          "2003-07",
          "2003-08",
          "2003-09",
          "2003-10",
          "2003-11",
          "2003-12",
          "2004-01",
          "2004-02",
          "2004-03",
          "2004-04",
          "2004-05",
          "2004-06",
          "2004-07",
          "2004-08",
          "2004-09",
          "2004-10",
          "2004-11",
          "2004-12",
          "2005-01",
          "2005-02",
          "2005-03",
          "2005-04",
          "2005-05",
          "2005-06",
          "2005-07",
          "2005-08",
          "2005-09",
          "2005-10",
          "2005-11",
          "2005-12",
          "2006-01",
          "2006-02",
          "2006-03",
          "2006-04",
          "2006-05",
          "2006-06",
          "2006-07",
          "2006-08",
          "2006-09",
          "2006-10",
          "2006-11",
          "2006-12",
          "2007-01",
          "2007-02",
          "2007-03",
          "2007-04",
          "2007-05",
          "2007-06",
          "2007-07",
          "2007-08",
          "2007-09",
          "2007-10",
          "2007-11",
          "2007-12",
          "2008-01",
          "2008-02",
          "2008-03",
          "2008-04",
          "2008-05",
          "2008-06",
          "2008-07",
          "2008-08",
          "2008-09",
          "2008-10",
          "2008-11",
          "2008-12",
          "2009-01",
          "2009-02",
          "2009-03",
          "2009-04",
          "2009-05",
          "2009-06",
          "2009-07",
          "2009-08",
          "2009-09",
          "2009-10",
          "2009-11",
          "2009-12",
          "2010-01",
          "2010-02",
          "2010-03",
          "2010-04",
          "2010-05",
          "2010-06",
          "2010-07",
          "2010-08",
          "2010-09",
          "2010-10",
          "2010-11",
          "2010-12",
          "2011-01",
          "2011-02",
          "2011-03",
          "2011-04",
          "2011-05",
          "2011-06",
          "2011-07",
          "2011-08",
          "2011-09",
          "2011-10",
          "2011-11",
          "2011-12",
          "2012-01",
          "2012-02",
          "2012-03",
          "2012-04",
          "2012-05",
          "2012-06",
          "2012-07",
          "2012-08",
          "2012-09",
          "2012-10",
          "2012-11",
          "2012-12",
          "2013-01",
          "2013-02",
          "2013-03",
          "2013-04",
          "2013-05",
          "2013-06",
          "2013-07",
          "2013-08",
          "2013-09",
          "2013-10",
          "2013-11",
          "2013-12",
          "2014-01",
          "2014-02",
          "2014-03",
          "2014-04",
          "2014-05",
          "2014-06",
          "2014-07",
          "2014-08",
          "2014-09",
          "2014-10",
          "2014-11",
          "2014-12",
          "2015-01",
          "2015-02",
          "2015-03",
          "2015-04",
          "2015-05",
          "2015-06",
          "2015-07",
          "2015-08",
          "2015-09",
          "2015-10",
          "2015-11",
          "2015-12",
          "2016-01",
          "2016-02",
          "2016-03",
          "2016-04",
          "2016-05",
          "2016-06",
          "2016-07",
          "2016-08",
          "2016-09",
          "2016-10",
          "2016-11",
          "2016-12",
          "2017-01",
          "2017-02",
          "2017-03",
          "2017-04",
          "2017-05",
          "2017-06",
          "2017-07",
          "2017-08",
          "2017-09",
          "2017-10",
          "2017-11",
          "2017-12",
          "2018-01",
          "2018-02",
          "2018-03",
          "2018-04",
          "2018-05",
          "2018-06",
          "2018-07",
          "2018-08",
          "2018-09",
          "2018-10",
          "2018-11",
          "2018-12",
          "2019-01",
          "2019-02",
          "2019-03",
          "2019-04",
          "2019-05",
          "2019-06",
          "2019-07",
          "2019-08",
          "2019-09",
          "2019-10",
          "2019-11",
          "2019-12",
          "2020-01"
         ],
         "y": [
          5.28,
          5.27,
          5.19,
          5.35,
          5.55,
          5.54,
          5.56,
          5.37,
          5.34,
          5.09,
          4.88,
          5.12,
          5.17,
          5.22,
          5.47,
          5.46,
          5.47,
          5.31,
          5.17,
          4.88,
          4.66,
          4.71,
          4.68,
          4.52,
          4.38,
          4.2,
          4.25,
          4.38,
          4.08,
          3.9,
          4.22,
          4.38,
          4.44,
          4.53,
          4.69,
          4.62,
          4.5,
          4.48,
          4.31,
          4.5,
          4.66,
          4.72,
          4.64,
          4.5,
          4.44,
          4.31,
          4.18,
          3.97,
          3.91,
          3.89,
          4.03,
          3.89,
          3.73,
          3.55,
          3.58,
          3.61,
          3.45,
          3.62,
          3.81,
          3.71,
          3.63,
          3.75,
          3.92,
          4.16,
          4.24,
          4.27,
          4.3,
          4.21,
          4.1,
          4.13,
          4.05,
          4.1,
          4.35,
          4.38,
          4.28,
          4.48,
          4.59,
          4.86,
          4.83,
          4.65,
          4.6,
          4.62,
          4.47,
          4.57,
          4.37,
          4.36,
          4.34,
          4.52,
          4.67,
          5,
          4.96,
          4.69,
          4.63,
          4.57,
          4.36,
          3.97,
          4.05,
          4.15,
          4.11,
          4.13,
          4.21,
          4.4,
          4.24,
          4.1,
          4.06,
          3.96,
          3.94,
          3.96,
          4.1,
          4.05,
          3.92,
          3.94,
          3.78,
          3.78,
          3.76,
          3.5,
          3.55,
          3.52,
          3.86,
          4.2,
          4.31,
          4.41,
          4.44,
          4.54,
          4.42,
          4.41,
          4.48,
          4.03,
          3.92,
          4.09,
          4.35,
          4.24,
          4.26,
          4.09,
          3.84,
          3.93,
          3.89,
          3.86,
          3.7,
          3.62,
          3.45,
          3.28,
          3.18,
          2.96,
          2.94,
          3.03,
          2.91,
          2.68,
          2.58,
          2.95,
          3.01,
          3.11,
          3.23,
          3.04,
          2.96,
          3.02,
          2.93,
          2.78,
          2.65,
          2.53,
          2.38,
          2.26,
          2.13,
          1.99,
          1.87,
          1.77,
          1.67,
          1.49,
          1.25,
          1.22,
          1.15,
          1.14,
          1.52,
          1.82,
          1.6,
          1.59,
          1.58,
          1.42,
          1.43,
          1.46,
          1.41,
          1.27,
          1.18,
          1.19,
          1.18,
          1.07,
          0.84,
          0.77,
          0.84,
          0.96,
          1.25,
          1.29,
          1.34,
          1.44,
          1.44,
          1.32,
          1.3,
          1.19,
          1.37,
          1.26,
          1.27,
          1.33,
          1.23,
          1.18,
          1.31,
          1.46,
          1.35,
          1.27,
          1.35,
          1.38,
          1.31,
          1.39,
          1.44,
          1.55,
          1.48,
          1.32,
          1.26,
          1.19,
          1.12,
          1.07,
          1,
          0.74,
          0.55,
          0.29,
          0.29,
          0.35,
          0.5,
          0.55,
          0.52
         ]
        },
        {
         "line": {
          "color": "red"
         },
         "name": "unemployment",
         "opacity": 0.8,
         "type": "scatter",
         "x": [
          "1998-04",
          "1998-05",
          "1998-06",
          "1998-07",
          "1998-08",
          "1998-09",
          "1998-10",
          "1998-11",
          "1998-12",
          "1999-01",
          "1999-02",
          "1999-03",
          "1999-04",
          "1999-05",
          "1999-06",
          "1999-07",
          "1999-08",
          "1999-09",
          "1999-10",
          "1999-11",
          "1999-12",
          "2000-01",
          "2000-02",
          "2000-03",
          "2000-04",
          "2000-05",
          "2000-06",
          "2000-07",
          "2000-08",
          "2000-09",
          "2000-10",
          "2000-11",
          "2000-12",
          "2001-01",
          "2001-02",
          "2001-03",
          "2001-04",
          "2001-05",
          "2001-06",
          "2001-07",
          "2001-08",
          "2001-09",
          "2001-10",
          "2001-11",
          "2001-12",
          "2002-01",
          "2002-02",
          "2002-03",
          "2002-04",
          "2002-05",
          "2002-06",
          "2002-07",
          "2002-08",
          "2002-09",
          "2002-10",
          "2002-11",
          "2002-12",
          "2003-01",
          "2003-02",
          "2003-03",
          "2003-04",
          "2003-05",
          "2003-06",
          "2003-07",
          "2003-08",
          "2003-09",
          "2003-10",
          "2003-11",
          "2003-12",
          "2004-01",
          "2004-02",
          "2004-03",
          "2004-04",
          "2004-05",
          "2004-06",
          "2004-07",
          "2004-08",
          "2004-09",
          "2004-10",
          "2004-11",
          "2004-12",
          "2005-01",
          "2005-02",
          "2005-03",
          "2005-04",
          "2005-05",
          "2005-06",
          "2005-07",
          "2005-08",
          "2005-09",
          "2005-10",
          "2005-11",
          "2005-12",
          "2006-01",
          "2006-02",
          "2006-03",
          "2006-04",
          "2006-05",
          "2006-06",
          "2006-07",
          "2006-08",
          "2006-09",
          "2006-10",
          "2006-11",
          "2006-12",
          "2007-01",
          "2007-02",
          "2007-03",
          "2007-04",
          "2007-05",
          "2007-06",
          "2007-07",
          "2007-08",
          "2007-09",
          "2007-10",
          "2007-11",
          "2007-12",
          "2008-01",
          "2008-02",
          "2008-03",
          "2008-04",
          "2008-05",
          "2008-06",
          "2008-07",
          "2008-08",
          "2008-09",
          "2008-10",
          "2008-11",
          "2008-12",
          "2009-01",
          "2009-02",
          "2009-03",
          "2009-04",
          "2009-05",
          "2009-06",
          "2009-07",
          "2009-08",
          "2009-09",
          "2009-10",
          "2009-11",
          "2009-12",
          "2010-01",
          "2010-02",
          "2010-03",
          "2010-04",
          "2010-05",
          "2010-06",
          "2010-07",
          "2010-08",
          "2010-09",
          "2010-10",
          "2010-11",
          "2010-12",
          "2011-01",
          "2011-02",
          "2011-03",
          "2011-04",
          "2011-05",
          "2011-06",
          "2011-07",
          "2011-08",
          "2011-09",
          "2011-10",
          "2011-11",
          "2011-12",
          "2012-01",
          "2012-02",
          "2012-03",
          "2012-04",
          "2012-05",
          "2012-06",
          "2012-07",
          "2012-08",
          "2012-09",
          "2012-10",
          "2012-11",
          "2012-12",
          "2013-01",
          "2013-02",
          "2013-03",
          "2013-04",
          "2013-05",
          "2013-06",
          "2013-07",
          "2013-08",
          "2013-09",
          "2013-10",
          "2013-11",
          "2013-12",
          "2014-01",
          "2014-02",
          "2014-03",
          "2014-04",
          "2014-05",
          "2014-06",
          "2014-07",
          "2014-08",
          "2014-09",
          "2014-10",
          "2014-11",
          "2014-12",
          "2015-01",
          "2015-02",
          "2015-03",
          "2015-04",
          "2015-05",
          "2015-06",
          "2015-07",
          "2015-08",
          "2015-09",
          "2015-10",
          "2015-11",
          "2015-12",
          "2016-01",
          "2016-02",
          "2016-03",
          "2016-04",
          "2016-05",
          "2016-06",
          "2016-07",
          "2016-08",
          "2016-09",
          "2016-10",
          "2016-11",
          "2016-12",
          "2017-01",
          "2017-02",
          "2017-03",
          "2017-04",
          "2017-05",
          "2017-06",
          "2017-07",
          "2017-08",
          "2017-09",
          "2017-10",
          "2017-11",
          "2017-12",
          "2018-01",
          "2018-02",
          "2018-03",
          "2018-04",
          "2018-05",
          "2018-06",
          "2018-07",
          "2018-08",
          "2018-09",
          "2018-10",
          "2018-11",
          "2018-12",
          "2019-01",
          "2019-02",
          "2019-03",
          "2019-04",
          "2019-05",
          "2019-06",
          "2019-07",
          "2019-08",
          "2019-09",
          "2019-10",
          "2019-11",
          "2019-12",
          "2020-01",
          "2020-02",
          "2020-03",
          "2020-04",
          "2020-05",
          "2020-06",
          "2020-07",
          "2020-08",
          "2020-09",
          "2020-10",
          "2020-11",
          "2020-12",
          "2021-01",
          "2021-02",
          "2021-03",
          "2021-04",
          "2021-05",
          "2021-06",
          "2021-07",
          "2021-08"
         ],
         "y": [
          10.7,
          10.4,
          10.4,
          10.3,
          10.1,
          9.9,
          10.1,
          10.1,
          10.1,
          10.2,
          10.3,
          10.2,
          10,
          9.7,
          9.7,
          9.6,
          9.4,
          9.2,
          9.4,
          9.4,
          9.3,
          9.4,
          9.6,
          9.5,
          9.1,
          8.8,
          8.8,
          8.8,
          8.6,
          8.4,
          8.5,
          8.5,
          8.4,
          8.5,
          8.7,
          8.6,
          8.3,
          8.1,
          8.1,
          8.1,
          8.1,
          8,
          8.2,
          8.3,
          8.4,
          8.6,
          8.8,
          8.8,
          8.6,
          8.4,
          8.4,
          8.5,
          8.5,
          8.4,
          8.6,
          8.7,
          8.9,
          9.3,
          9.5,
          9.5,
          9.2,
          8.9,
          8.9,
          8.8,
          8.8,
          8.7,
          9,
          9.1,
          9.2,
          9.7,
          9.7,
          9.7,
          9.4,
          9.1,
          9,
          8.9,
          9,
          9.2,
          9.3,
          9.5,
          9.4,
          9.7,
          9.8,
          9.7,
          9.2,
          9.2,
          8.9,
          8.6,
          8.8,
          9,
          9.2,
          9.1,
          9,
          9.3,
          9.3,
          9.1,
          8.6,
          8.3,
          8.1,
          7.9,
          8,
          8.1,
          8.2,
          8.3,
          8,
          8.2,
          8.3,
          7.9,
          7.6,
          7.5,
          7.2,
          7.2,
          7.2,
          7.3,
          7.3,
          7.4,
          7.5,
          7.7,
          7.7,
          7.5,
          7.5,
          7.3,
          7.4,
          7.2,
          7.3,
          7.4,
          7.7,
          8.1,
          8.4,
          9.2,
          9.6,
          9.8,
          9.7,
          9.5,
          9.4,
          9.5,
          9.5,
          9.8,
          10,
          10.1,
          10.2,
          10.8,
          10.9,
          10.7,
          10.5,
          10.3,
          9.9,
          9.9,
          9.7,
          10,
          10.3,
          10.2,
          10.2,
          10.6,
          10.6,
          10.5,
          10,
          9.9,
          9.8,
          9.8,
          9.9,
          10.1,
          10.4,
          10.8,
          10.8,
          11.4,
          11.5,
          11.6,
          11.4,
          11.3,
          11.1,
          11.1,
          11.1,
          11.3,
          11.8,
          12,
          11.9,
          12.7,
          12.8,
          12.5,
          12.3,
          12,
          11.7,
          11.6,
          11.5,
          11.8,
          12,
          12.1,
          11.9,
          12.5,
          12.5,
          12.3,
          11.8,
          11.6,
          11.1,
          11.1,
          11,
          11.3,
          11.6,
          11.8,
          11.3,
          11.7,
          11.8,
          11.6,
          11.2,
          10.9,
          10.7,
          10.3,
          10.2,
          10.4,
          10.7,
          10.7,
          10.6,
          10.7,
          10.9,
          10.6,
          10.3,
          10.1,
          9.8,
          9.6,
          9.6,
          9.7,
          9.8,
          10,
          9.6,
          10,
          10,
          9.7,
          9.3,
          9.1,
          8.7,
          8.7,
          8.7,
          8.7,
          8.8,
          8.8,
          8.6,
          9,
          9,
          8.8,
          8.5,
          8.1,
          8,
          7.8,
          7.7,
          7.8,
          8,
          8,
          7.8,
          8.2,
          8.2,
          8,
          7.7,
          7.4,
          7.2,
          7.3,
          7.3,
          7.4,
          7.4,
          7.5,
          7.4,
          7.8,
          7.7,
          7.3,
          7.2,
          7.3,
          7.8,
          8.4,
          8.6,
          8.6,
          8.3,
          8,
          8,
          8.6,
          8.5,
          8.3,
          8.2,
          7.9,
          7.5,
          7.4,
          7.4
         ]
        },
        {
         "line": {
          "color": "green"
         },
         "name": "euro_yields_10y",
         "opacity": 0.8,
         "type": "scatter",
         "x": [
          "2004-09",
          "2004-10",
          "2004-11",
          "2004-12",
          "2005-01",
          "2005-02",
          "2005-03",
          "2005-04",
          "2005-05",
          "2005-06",
          "2005-07",
          "2005-08",
          "2005-09",
          "2005-10",
          "2005-11",
          "2005-12",
          "2006-01",
          "2006-02",
          "2006-03",
          "2006-04",
          "2006-05",
          "2006-06",
          "2006-07",
          "2006-08",
          "2006-09",
          "2006-10",
          "2006-11",
          "2006-12",
          "2007-01",
          "2007-02",
          "2007-03",
          "2007-04",
          "2007-05",
          "2007-06",
          "2007-07",
          "2007-08",
          "2007-09",
          "2007-10",
          "2007-11",
          "2007-12",
          "2008-01",
          "2008-02",
          "2008-03",
          "2008-04",
          "2008-05",
          "2008-06",
          "2008-07",
          "2008-08",
          "2008-09",
          "2008-10",
          "2008-11",
          "2008-12",
          "2009-01",
          "2009-02",
          "2009-03",
          "2009-04",
          "2009-05",
          "2009-06",
          "2009-07",
          "2009-08",
          "2009-09",
          "2009-10",
          "2009-11",
          "2009-12",
          "2010-01",
          "2010-02",
          "2010-03",
          "2010-04",
          "2010-05",
          "2010-06",
          "2010-07",
          "2010-08",
          "2010-09",
          "2010-10",
          "2010-11",
          "2010-12",
          "2011-01",
          "2011-02",
          "2011-03",
          "2011-04",
          "2011-05",
          "2011-06",
          "2011-07",
          "2011-08",
          "2011-09",
          "2011-10",
          "2011-11",
          "2011-12",
          "2012-01",
          "2012-02",
          "2012-03",
          "2012-04",
          "2012-05",
          "2012-06",
          "2012-07",
          "2012-08",
          "2012-09",
          "2012-10",
          "2012-11",
          "2012-12",
          "2013-01",
          "2013-02",
          "2013-03",
          "2013-04",
          "2013-05",
          "2013-06",
          "2013-07",
          "2013-08",
          "2013-09",
          "2013-10",
          "2013-11",
          "2013-12",
          "2014-01",
          "2014-02",
          "2014-03",
          "2014-04",
          "2014-05",
          "2014-06",
          "2014-07",
          "2014-08",
          "2014-09",
          "2014-10",
          "2014-11",
          "2014-12",
          "2015-01",
          "2015-02",
          "2015-03",
          "2015-04",
          "2015-05",
          "2015-06",
          "2015-07",
          "2015-08",
          "2015-09",
          "2015-10",
          "2015-11",
          "2015-12",
          "2016-01",
          "2016-02",
          "2016-03",
          "2016-04",
          "2016-05",
          "2016-06",
          "2016-07",
          "2016-08",
          "2016-09",
          "2016-10",
          "2016-11",
          "2016-12",
          "2017-01",
          "2017-02",
          "2017-03",
          "2017-04",
          "2017-05",
          "2017-06",
          "2017-07",
          "2017-08",
          "2017-09",
          "2017-10",
          "2017-11",
          "2017-12",
          "2018-01",
          "2018-02",
          "2018-03",
          "2018-04",
          "2018-05",
          "2018-06",
          "2018-07",
          "2018-08",
          "2018-09",
          "2018-10",
          "2018-11",
          "2018-12",
          "2019-01",
          "2019-02",
          "2019-03",
          "2019-04",
          "2019-05",
          "2019-06",
          "2019-07",
          "2019-08",
          "2019-09",
          "2019-10",
          "2019-11",
          "2019-12",
          "2020-01",
          "2020-02",
          "2020-03",
          "2020-04",
          "2020-05",
          "2020-06",
          "2020-07",
          "2020-08",
          "2020-09",
          "2020-10",
          "2020-11",
          "2020-12",
          "2021-01",
          "2021-02",
          "2021-03",
          "2021-04",
          "2021-05",
          "2021-06",
          "2021-07",
          "2021-08",
          "2021-09"
         ],
         "y": [
          5.20765,
          5.17056,
          5.06392,
          4.75177,
          4.58669,
          4.4316,
          4.66631,
          4.5628,
          4.43398,
          4.25942,
          4.29541,
          4.25316,
          4.02657,
          3.9731,
          4.14664,
          3.98517,
          3.88725,
          4.01175,
          4.13023,
          4.46636,
          4.60435,
          4.60433,
          4.58732,
          4.4336,
          4.18536,
          4.08344,
          4.00798,
          4.0525,
          4.28806,
          4.30145,
          4.25388,
          4.45008,
          4.53757,
          4.83813,
          4.78983,
          4.74923,
          4.79214,
          4.80407,
          4.78515,
          4.88971,
          4.90469,
          5.07309,
          5.15281,
          5.09128,
          5.04348,
          5.08382,
          5.14537,
          5.07307,
          5.16627,
          5.04335,
          5.13158,
          4.68898,
          5.17846,
          5.31776,
          5.43797,
          5.50931,
          5.66255,
          5.76882,
          5.72366,
          5.37099,
          5.49449,
          5.45782,
          5.46389,
          5.40894,
          5.47762,
          5.49226,
          5.44761,
          5.48005,
          5.48425,
          5.47134,
          5.41568,
          5.07257,
          5.07168,
          5.0067,
          5.08683,
          5.27271,
          5.33576,
          5.42766,
          5.39091,
          5.36635,
          5.17882,
          5.23898,
          5.35923,
          5.23906,
          5.33147,
          5.50974,
          6.0217,
          5.62509,
          5.6859,
          5.29426,
          5.09295,
          5.1819,
          4.9835,
          5.02482,
          5.09173,
          4.91702,
          4.80538,
          4.71737,
          4.69182,
          4.46499,
          4.47813,
          4.5768,
          4.47029,
          4.1747,
          4.16528,
          4.3136,
          4.40205,
          4.47165,
          4.60075,
          4.53558,
          4.53696,
          4.52302,
          4.43002,
          4.2548,
          4.09882,
          4.00713,
          3.8981,
          3.88013,
          3.69875,
          3.37871,
          3.38739,
          3.27708,
          3.14278,
          2.75593,
          2.27308,
          2.02137,
          1.71224,
          1.68161,
          2.48919,
          3.06162,
          3.0303,
          2.84211,
          2.88099,
          2.60266,
          2.633,
          2.63992,
          2.59026,
          2.3192,
          2.24133,
          2.16587,
          2.21076,
          1.91694,
          1.60278,
          1.49912,
          1.63111,
          1.77394,
          2.21253,
          2.37387,
          2.55791,
          2.70057,
          2.69942,
          2.54507,
          2.55745,
          2.43227,
          2.57261,
          2.46066,
          2.51486,
          2.5428,
          2.42922,
          2.35879,
          2.45888,
          2.47669,
          2.31086,
          2.27342,
          2.31637,
          2.13043,
          2.05819,
          2.19847,
          2.1735,
          2.17317,
          2.13483,
          2.21085,
          2.15008,
          1.94674,
          1.85303,
          1.67536,
          1.52428,
          1.12326,
          1.04939,
          0.526,
          0.73917,
          0.80014,
          0.93848,
          1.02717,
          0.93626,
          0.67673,
          0.90962,
          1.24026,
          1.11692,
          0.91542,
          0.72712,
          0.67022,
          0.62189,
          0.57395,
          0.51743,
          0.47981,
          0.49949,
          0.76913,
          0.96376,
          1.02024,
          1.22854,
          1.17677,
          0.98166,
          0.81997,
          0.99479
         ]
        },
        {
         "line": {
          "color": "orange"
         },
         "name": "inflation",
         "opacity": 0.8,
         "type": "scatter",
         "x": [
          "1960",
          "1961",
          "1962",
          "1963",
          "1964",
          "1965",
          "1966",
          "1967",
          "1968",
          "1969",
          "1970",
          "1971",
          "1972",
          "1973",
          "1974",
          "1975",
          "1976",
          "1977",
          "1978",
          "1979",
          "1980",
          "1981",
          "1982",
          "1983",
          "1984",
          "1985",
          "1986",
          "1987",
          "1988",
          "1989",
          "1990",
          "1991",
          "1992",
          "1993",
          "1994",
          "1995",
          "1996",
          "1997",
          "1998",
          "1999",
          "2000",
          "2001",
          "2002",
          "2003",
          "2004",
          "2005",
          "2006",
          "2007",
          "2008",
          "2009",
          "2010",
          "2011",
          "2012",
          "2013",
          "2014",
          "2015",
          "2016",
          "2017",
          "2018",
          "2019",
          "2020"
         ],
         "y": [
          1.74118045584826,
          2.07712948741101,
          3.55350360375607,
          2.92164166264774,
          3.41628039655558,
          3.98661388434155,
          3.7033562981507,
          3.31931754624681,
          3.24282812207261,
          2.67462365971334,
          4.50608892986038,
          5.24097417077837,
          6.00738969862495,
          7.74908612919203,
          13.1636026120795,
          10.4675758306121,
          9.34705279605246,
          9.76746473607034,
          7.75524596278477,
          8.2216869300552,
          12.9114423266382,
          11.7673874344182,
          9.58492764677443,
          8.66927159808515,
          7.6738026224732,
          5.39549731466383,
          3.67818411863458,
          4.01999345683155,
          4.53513301015726,
          6.25983137956973,
          6.14956531179854,
          5.48474275083469,
          6.21737690900003,
          4.85416666666693,
          4.71841328382086,
          4.42664550286656,
          3.55884083117293,
          3.11207791953274,
          2.41551787239232,
          2.15717918055056,
          3.15076707022592,
          3.37396699038281,
          2.42443661219694,
          2.09199838997658,
          2.28621706801675,
          2.48769665164086,
          2.66631494577072,
          2.51066565240339,
          4.1649719352477,
          0.83926224679384,
          1.53112270420924,
          3.28944939564212,
          2.66284165508017,
          1.21999342274305,
          0.199343826570849,
          -0.0616446800641176,
          0.183334861123848,
          1.42910743319297,
          1.73860861988181,
          1.63052260754338,
          0.502028604403418
         ]
        },
        {
         "line": {
          "color": "pink"
         },
         "name": "GDP growth",
         "opacity": 0.8,
         "type": "scatter",
         "x": [
          "1960",
          "1961",
          "1962",
          "1963",
          "1964",
          "1965",
          "1966",
          "1967",
          "1968",
          "1969",
          "1970",
          "1971",
          "1972",
          "1973",
          "1974",
          "1975",
          "1976",
          "1977",
          "1978",
          "1979",
          "1980",
          "1981",
          "1982",
          "1983",
          "1984",
          "1985",
          "1986",
          "1987",
          "1988",
          "1989",
          "1990",
          "1991",
          "1992",
          "1993",
          "1994",
          "1995",
          "1996",
          "1997",
          "1998",
          "1999",
          "2000",
          "2001",
          "2002",
          "2003",
          "2004",
          "2005",
          "2006",
          "2007",
          "2008",
          "2009",
          "2010",
          "2011",
          "2012",
          "2013",
          "2014",
          "2015",
          "2016",
          "2017",
          "2018",
          "2019",
          "2020"
         ],
         "y": [
          "NA",
          "NA",
          "NA",
          "NA",
          "NA",
          "NA",
          "NA",
          "NA",
          "NA",
          "NA",
          "NA",
          3.65995270698232,
          4.78510857323799,
          6.03318350638477,
          3.09914983305156,
          -0.648403581592461,
          4.89765969721161,
          2.8769400886067,
          3.05660927303013,
          3.84491853161275,
          2.07093489668422,
          0.502355946004101,
          0.816194455396641,
          1.44131252537758,
          2.48529638155601,
          2.35056662930484,
          2.5866171609056,
          2.52816374424737,
          4.16830425124233,
          3.92401201614308,
          3.37066821988184,
          1.84129136810365,
          1.16405892758293,
          -0.573912441362936,
          2.64906610224764,
          2.66738996817932,
          1.89217130756212,
          2.6645667961099,
          3.01877492364856,
          2.95859462195483,
          3.90890069501526,
          2.18443172802077,
          1.12317014112575,
          0.929380867117942,
          2.59534264968548,
          1.93483834496035,
          3.49262891024343,
          3.15233368938709,
          0.645831791734167,
          -4.32573931696186,
          2.21061429802943,
          1.81701373960948,
          -0.747025971716496,
          -0.0478238394554324,
          1.57371689308464,
          2.30211242110556,
          2.00664875170833,
          2.80306329867453,
          2.11404920350664,
          1.55972588697249,
          -6.20157283789507
         ]
        },
        {
         "line": {
          "color": "black"
         },
         "name": "% Monthly Change Volume Sales",
         "opacity": 0.8,
         "type": "scatter",
         "x": [
          "2001-01",
          "2001-02",
          "2001-03",
          "2001-04",
          "2001-05",
          "2001-06",
          "2001-07",
          "2001-08",
          "2001-09",
          "2001-10",
          "2001-11",
          "2001-12",
          "2002-01",
          "2002-02",
          "2002-03",
          "2002-04",
          "2002-05",
          "2002-06",
          "2002-07",
          "2002-08",
          "2002-09",
          "2002-10",
          "2002-11",
          "2002-12",
          "2003-01",
          "2003-02",
          "2003-03",
          "2003-04",
          "2003-05",
          "2003-06",
          "2003-07",
          "2003-08",
          "2003-09",
          "2003-10",
          "2003-11",
          "2003-12",
          "2004-01",
          "2004-02",
          "2004-03",
          "2004-04",
          "2004-05",
          "2004-06",
          "2004-07",
          "2004-08",
          "2004-09",
          "2004-10",
          "2004-11",
          "2004-12",
          "2005-01",
          "2005-02",
          "2005-03",
          "2005-04",
          "2005-05",
          "2005-06",
          "2005-07",
          "2005-08",
          "2005-09",
          "2005-10",
          "2005-11",
          "2005-12",
          "2006-01",
          "2006-02",
          "2006-03",
          "2006-04",
          "2006-05",
          "2006-06",
          "2006-07",
          "2006-08",
          "2006-09",
          "2006-10",
          "2006-11",
          "2006-12",
          "2007-01",
          "2007-02",
          "2007-03",
          "2007-04",
          "2007-05",
          "2007-06",
          "2007-07",
          "2007-08",
          "2007-09",
          "2007-10",
          "2007-11",
          "2007-12",
          "2008-01",
          "2008-02",
          "2008-03",
          "2008-04",
          "2008-05",
          "2008-06",
          "2008-07",
          "2008-08",
          "2008-09",
          "2008-10",
          "2008-11",
          "2008-12",
          "2009-01",
          "2009-02",
          "2009-03",
          "2009-04",
          "2009-05",
          "2009-06",
          "2009-07",
          "2009-08",
          "2009-09",
          "2009-10",
          "2009-11",
          "2009-12",
          "2010-01",
          "2010-02",
          "2010-03",
          "2010-04",
          "2010-05",
          "2010-06",
          "2010-07",
          "2010-08",
          "2010-09",
          "2010-10",
          "2010-11",
          "2010-12",
          "2011-01",
          "2011-02",
          "2011-03",
          "2011-04",
          "2011-05",
          "2011-06",
          "2011-07",
          "2011-08",
          "2011-09",
          "2011-10",
          "2011-11",
          "2011-12",
          "2012-01",
          "2012-02",
          "2012-03",
          "2012-04",
          "2012-05",
          "2012-06",
          "2012-07",
          "2012-08",
          "2012-09",
          "2012-10",
          "2012-11",
          "2012-12",
          "2013-01",
          "2013-02",
          "2013-03",
          "2013-04",
          "2013-05",
          "2013-06",
          "2013-07",
          "2013-08",
          "2013-09",
          "2013-10",
          "2013-11",
          "2013-12",
          "2014-01",
          "2014-02",
          "2014-03",
          "2014-04",
          "2014-05",
          "2014-06",
          "2014-07",
          "2014-08",
          "2014-09",
          "2014-10",
          "2014-11",
          "2014-12",
          "2015-01",
          "2015-02",
          "2015-03",
          "2015-04",
          "2015-05",
          "2015-06",
          "2015-07",
          "2015-08",
          "2015-09",
          "2015-10",
          "2015-11",
          "2015-12",
          "2016-01",
          "2016-02",
          "2016-03",
          "2016-04",
          "2016-05",
          "2016-06",
          "2016-07",
          "2016-08",
          "2016-09",
          "2016-10",
          "2016-11",
          "2016-12",
          "2017-01",
          "2017-02",
          "2017-03",
          "2017-04",
          "2017-05",
          "2017-06",
          "2017-07",
          "2017-08",
          "2017-09",
          "2017-10",
          "2017-11",
          "2017-12",
          "2018-01",
          "2018-02",
          "2018-03",
          "2018-04",
          "2018-05",
          "2018-06",
          "2018-07",
          "2018-08",
          "2018-09",
          "2018-10",
          "2018-11",
          "2018-12",
          "2019-01",
          "2019-02",
          "2019-03",
          "2019-04",
          "2019-05",
          "2019-06",
          "2019-07",
          "2019-08",
          "2019-09",
          "2019-10",
          "2019-11",
          "2019-12",
          "2020-01",
          "2020-02",
          "2020-03",
          "2020-04",
          "2020-05",
          "2020-06",
          "2020-07",
          "2020-08",
          "2020-09",
          "2020-10",
          "2020-11",
          "2020-12",
          "2021-01",
          "2021-02",
          "2021-03",
          "2021-04",
          "2021-05",
          "2021-06",
          "2021-07",
          "2021-08"
         ],
         "y": [
          6,
          4.8,
          5,
          4.8,
          4.6,
          5.8,
          4.3,
          5.1,
          4,
          2.3,
          2.7,
          3.2,
          0.5,
          2.3,
          2.3,
          2.2,
          2.1,
          0.9,
          1.9,
          1.9,
          2.2,
          3.7,
          1.3,
          0.8,
          3.6,
          2.9,
          2.2,
          2.2,
          1.1,
          1.8,
          1.1,
          1.1,
          1,
          1.9,
          0.6,
          1.1,
          2.5,
          1.1,
          2.2,
          2.9,
          2,
          3.9,
          3.1,
          2.8,
          2.3,
          1.5,
          3.7,
          3.4,
          2.9,
          2.8,
          3.1,
          1.7,
          2.1,
          2.6,
          3.4,
          5.2,
          4,
          3.5,
          1.6,
          1.9,
          3.3,
          3.9,
          3,
          4,
          4.8,
          4.3,
          4.8,
          4.6,
          2.9,
          2.6,
          3.5,
          4.2,
          2.1,
          2.2,
          3.5,
          3.3,
          1.4,
          2.3,
          2.5,
          2.5,
          3.1,
          3.3,
          3.2,
          1.5,
          5.2,
          5.4,
          2.4,
          2.4,
          4.9,
          3,
          3.1,
          2.8,
          3.3,
          0.7,
          -0.8,
          -1.6,
          -3.2,
          -5.2,
          -4.5,
          -3.7,
          -5.3,
          -4.7,
          -4.5,
          -4.6,
          -5.2,
          -3.1,
          -3.1,
          -0.3,
          0.8,
          0.7,
          3.4,
          1.5,
          2.7,
          2.2,
          2.2,
          2.8,
          2.5,
          2.6,
          3.7,
          1.7,
          2.7,
          3.3,
          1.1,
          3.1,
          0.5,
          1.8,
          1.8,
          2.3,
          1.7,
          2.2,
          1.5,
          0.4,
          1.5,
          0.4,
          2.4,
          -0.9,
          2,
          1.1,
          0.2,
          1.4,
          0.4,
          -0.9,
          -0.5,
          -0.4,
          -1.1,
          -0.7,
          -1.4,
          -0.5,
          0.3,
          -0.5,
          0.1,
          0.1,
          -0.1,
          -0.3,
          1.4,
          -0.2,
          0.8,
          0.9,
          0.6,
          1.5,
          0.1,
          1.2,
          -0.4,
          0.9,
          0.1,
          0.7,
          0.4,
          0.8,
          0.4,
          1.2,
          0.6,
          1.6,
          2.6,
          2.5,
          3.4,
          1.6,
          1.8,
          1.4,
          1.1,
          1.8,
          1.2,
          1.3,
          0.7,
          -0.1,
          0.1,
          0.5,
          0.5,
          1,
          0.7,
          2.9,
          3.1,
          2.1,
          3.3,
          3.8,
          4.9,
          4.1,
          4.1,
          4.2,
          3.3,
          3,
          5.2,
          1.3,
          5.3,
          3.4,
          2.6,
          2.5,
          2.3,
          3,
          3.5,
          3.8,
          3.2,
          4.3,
          1.9,
          4.4,
          3,
          1,
          2.7,
          3.8,
          2.9,
          3,
          1.8,
          3.1,
          2.7,
          3,
          2.8,
          1.8,
          2.5,
          2.7,
          3,
          3.2,
          -7.5,
          -18.6,
          -2.9,
          1.2,
          1.1,
          4.3,
          2.2,
          4.2,
          -1.8,
          1.1,
          -4.3,
          -1.1,
          14.7,
          24.8,
          10.5,
          7.7,
          4.8,
          2.7
         ]
        }
       ],
       "layout": {
        "template": {
         "data": {
          "bar": [
           {
            "error_x": {
             "color": "#2a3f5f"
            },
            "error_y": {
             "color": "#2a3f5f"
            },
            "marker": {
             "line": {
              "color": "#E5ECF6",
              "width": 0.5
             },
             "pattern": {
              "fillmode": "overlay",
              "size": 10,
              "solidity": 0.2
             }
            },
            "type": "bar"
           }
          ],
          "barpolar": [
           {
            "marker": {
             "line": {
              "color": "#E5ECF6",
              "width": 0.5
             },
             "pattern": {
              "fillmode": "overlay",
              "size": 10,
              "solidity": 0.2
             }
            },
            "type": "barpolar"
           }
          ],
          "carpet": [
           {
            "aaxis": {
             "endlinecolor": "#2a3f5f",
             "gridcolor": "white",
             "linecolor": "white",
             "minorgridcolor": "white",
             "startlinecolor": "#2a3f5f"
            },
            "baxis": {
             "endlinecolor": "#2a3f5f",
             "gridcolor": "white",
             "linecolor": "white",
             "minorgridcolor": "white",
             "startlinecolor": "#2a3f5f"
            },
            "type": "carpet"
           }
          ],
          "choropleth": [
           {
            "colorbar": {
             "outlinewidth": 0,
             "ticks": ""
            },
            "type": "choropleth"
           }
          ],
          "contour": [
           {
            "colorbar": {
             "outlinewidth": 0,
             "ticks": ""
            },
            "colorscale": [
             [
              0,
              "#0d0887"
             ],
             [
              0.1111111111111111,
              "#46039f"
             ],
             [
              0.2222222222222222,
              "#7201a8"
             ],
             [
              0.3333333333333333,
              "#9c179e"
             ],
             [
              0.4444444444444444,
              "#bd3786"
             ],
             [
              0.5555555555555556,
              "#d8576b"
             ],
             [
              0.6666666666666666,
              "#ed7953"
             ],
             [
              0.7777777777777778,
              "#fb9f3a"
             ],
             [
              0.8888888888888888,
              "#fdca26"
             ],
             [
              1,
              "#f0f921"
             ]
            ],
            "type": "contour"
           }
          ],
          "contourcarpet": [
           {
            "colorbar": {
             "outlinewidth": 0,
             "ticks": ""
            },
            "type": "contourcarpet"
           }
          ],
          "heatmap": [
           {
            "colorbar": {
             "outlinewidth": 0,
             "ticks": ""
            },
            "colorscale": [
             [
              0,
              "#0d0887"
             ],
             [
              0.1111111111111111,
              "#46039f"
             ],
             [
              0.2222222222222222,
              "#7201a8"
             ],
             [
              0.3333333333333333,
              "#9c179e"
             ],
             [
              0.4444444444444444,
              "#bd3786"
             ],
             [
              0.5555555555555556,
              "#d8576b"
             ],
             [
              0.6666666666666666,
              "#ed7953"
             ],
             [
              0.7777777777777778,
              "#fb9f3a"
             ],
             [
              0.8888888888888888,
              "#fdca26"
             ],
             [
              1,
              "#f0f921"
             ]
            ],
            "type": "heatmap"
           }
          ],
          "heatmapgl": [
           {
            "colorbar": {
             "outlinewidth": 0,
             "ticks": ""
            },
            "colorscale": [
             [
              0,
              "#0d0887"
             ],
             [
              0.1111111111111111,
              "#46039f"
             ],
             [
              0.2222222222222222,
              "#7201a8"
             ],
             [
              0.3333333333333333,
              "#9c179e"
             ],
             [
              0.4444444444444444,
              "#bd3786"
             ],
             [
              0.5555555555555556,
              "#d8576b"
             ],
             [
              0.6666666666666666,
              "#ed7953"
             ],
             [
              0.7777777777777778,
              "#fb9f3a"
             ],
             [
              0.8888888888888888,
              "#fdca26"
             ],
             [
              1,
              "#f0f921"
             ]
            ],
            "type": "heatmapgl"
           }
          ],
          "histogram": [
           {
            "marker": {
             "pattern": {
              "fillmode": "overlay",
              "size": 10,
              "solidity": 0.2
             }
            },
            "type": "histogram"
           }
          ],
          "histogram2d": [
           {
            "colorbar": {
             "outlinewidth": 0,
             "ticks": ""
            },
            "colorscale": [
             [
              0,
              "#0d0887"
             ],
             [
              0.1111111111111111,
              "#46039f"
             ],
             [
              0.2222222222222222,
              "#7201a8"
             ],
             [
              0.3333333333333333,
              "#9c179e"
             ],
             [
              0.4444444444444444,
              "#bd3786"
             ],
             [
              0.5555555555555556,
              "#d8576b"
             ],
             [
              0.6666666666666666,
              "#ed7953"
             ],
             [
              0.7777777777777778,
              "#fb9f3a"
             ],
             [
              0.8888888888888888,
              "#fdca26"
             ],
             [
              1,
              "#f0f921"
             ]
            ],
            "type": "histogram2d"
           }
          ],
          "histogram2dcontour": [
           {
            "colorbar": {
             "outlinewidth": 0,
             "ticks": ""
            },
            "colorscale": [
             [
              0,
              "#0d0887"
             ],
             [
              0.1111111111111111,
              "#46039f"
             ],
             [
              0.2222222222222222,
              "#7201a8"
             ],
             [
              0.3333333333333333,
              "#9c179e"
             ],
             [
              0.4444444444444444,
              "#bd3786"
             ],
             [
              0.5555555555555556,
              "#d8576b"
             ],
             [
              0.6666666666666666,
              "#ed7953"
             ],
             [
              0.7777777777777778,
              "#fb9f3a"
             ],
             [
              0.8888888888888888,
              "#fdca26"
             ],
             [
              1,
              "#f0f921"
             ]
            ],
            "type": "histogram2dcontour"
           }
          ],
          "mesh3d": [
           {
            "colorbar": {
             "outlinewidth": 0,
             "ticks": ""
            },
            "type": "mesh3d"
           }
          ],
          "parcoords": [
           {
            "line": {
             "colorbar": {
              "outlinewidth": 0,
              "ticks": ""
             }
            },
            "type": "parcoords"
           }
          ],
          "pie": [
           {
            "automargin": true,
            "type": "pie"
           }
          ],
          "scatter": [
           {
            "marker": {
             "colorbar": {
              "outlinewidth": 0,
              "ticks": ""
             }
            },
            "type": "scatter"
           }
          ],
          "scatter3d": [
           {
            "line": {
             "colorbar": {
              "outlinewidth": 0,
              "ticks": ""
             }
            },
            "marker": {
             "colorbar": {
              "outlinewidth": 0,
              "ticks": ""
             }
            },
            "type": "scatter3d"
           }
          ],
          "scattercarpet": [
           {
            "marker": {
             "colorbar": {
              "outlinewidth": 0,
              "ticks": ""
             }
            },
            "type": "scattercarpet"
           }
          ],
          "scattergeo": [
           {
            "marker": {
             "colorbar": {
              "outlinewidth": 0,
              "ticks": ""
             }
            },
            "type": "scattergeo"
           }
          ],
          "scattergl": [
           {
            "marker": {
             "colorbar": {
              "outlinewidth": 0,
              "ticks": ""
             }
            },
            "type": "scattergl"
           }
          ],
          "scattermapbox": [
           {
            "marker": {
             "colorbar": {
              "outlinewidth": 0,
              "ticks": ""
             }
            },
            "type": "scattermapbox"
           }
          ],
          "scatterpolar": [
           {
            "marker": {
             "colorbar": {
              "outlinewidth": 0,
              "ticks": ""
             }
            },
            "type": "scatterpolar"
           }
          ],
          "scatterpolargl": [
           {
            "marker": {
             "colorbar": {
              "outlinewidth": 0,
              "ticks": ""
             }
            },
            "type": "scatterpolargl"
           }
          ],
          "scatterternary": [
           {
            "marker": {
             "colorbar": {
              "outlinewidth": 0,
              "ticks": ""
             }
            },
            "type": "scatterternary"
           }
          ],
          "surface": [
           {
            "colorbar": {
             "outlinewidth": 0,
             "ticks": ""
            },
            "colorscale": [
             [
              0,
              "#0d0887"
             ],
             [
              0.1111111111111111,
              "#46039f"
             ],
             [
              0.2222222222222222,
              "#7201a8"
             ],
             [
              0.3333333333333333,
              "#9c179e"
             ],
             [
              0.4444444444444444,
              "#bd3786"
             ],
             [
              0.5555555555555556,
              "#d8576b"
             ],
             [
              0.6666666666666666,
              "#ed7953"
             ],
             [
              0.7777777777777778,
              "#fb9f3a"
             ],
             [
              0.8888888888888888,
              "#fdca26"
             ],
             [
              1,
              "#f0f921"
             ]
            ],
            "type": "surface"
           }
          ],
          "table": [
           {
            "cells": {
             "fill": {
              "color": "#EBF0F8"
             },
             "line": {
              "color": "white"
             }
            },
            "header": {
             "fill": {
              "color": "#C8D4E3"
             },
             "line": {
              "color": "white"
             }
            },
            "type": "table"
           }
          ]
         },
         "layout": {
          "annotationdefaults": {
           "arrowcolor": "#2a3f5f",
           "arrowhead": 0,
           "arrowwidth": 1
          },
          "autotypenumbers": "strict",
          "coloraxis": {
           "colorbar": {
            "outlinewidth": 0,
            "ticks": ""
           }
          },
          "colorscale": {
           "diverging": [
            [
             0,
             "#8e0152"
            ],
            [
             0.1,
             "#c51b7d"
            ],
            [
             0.2,
             "#de77ae"
            ],
            [
             0.3,
             "#f1b6da"
            ],
            [
             0.4,
             "#fde0ef"
            ],
            [
             0.5,
             "#f7f7f7"
            ],
            [
             0.6,
             "#e6f5d0"
            ],
            [
             0.7,
             "#b8e186"
            ],
            [
             0.8,
             "#7fbc41"
            ],
            [
             0.9,
             "#4d9221"
            ],
            [
             1,
             "#276419"
            ]
           ],
           "sequential": [
            [
             0,
             "#0d0887"
            ],
            [
             0.1111111111111111,
             "#46039f"
            ],
            [
             0.2222222222222222,
             "#7201a8"
            ],
            [
             0.3333333333333333,
             "#9c179e"
            ],
            [
             0.4444444444444444,
             "#bd3786"
            ],
            [
             0.5555555555555556,
             "#d8576b"
            ],
            [
             0.6666666666666666,
             "#ed7953"
            ],
            [
             0.7777777777777778,
             "#fb9f3a"
            ],
            [
             0.8888888888888888,
             "#fdca26"
            ],
            [
             1,
             "#f0f921"
            ]
           ],
           "sequentialminus": [
            [
             0,
             "#0d0887"
            ],
            [
             0.1111111111111111,
             "#46039f"
            ],
            [
             0.2222222222222222,
             "#7201a8"
            ],
            [
             0.3333333333333333,
             "#9c179e"
            ],
            [
             0.4444444444444444,
             "#bd3786"
            ],
            [
             0.5555555555555556,
             "#d8576b"
            ],
            [
             0.6666666666666666,
             "#ed7953"
            ],
            [
             0.7777777777777778,
             "#fb9f3a"
            ],
            [
             0.8888888888888888,
             "#fdca26"
            ],
            [
             1,
             "#f0f921"
            ]
           ]
          },
          "colorway": [
           "#636efa",
           "#EF553B",
           "#00cc96",
           "#ab63fa",
           "#FFA15A",
           "#19d3f3",
           "#FF6692",
           "#B6E880",
           "#FF97FF",
           "#FECB52"
          ],
          "font": {
           "color": "#2a3f5f"
          },
          "geo": {
           "bgcolor": "white",
           "lakecolor": "white",
           "landcolor": "#E5ECF6",
           "showlakes": true,
           "showland": true,
           "subunitcolor": "white"
          },
          "hoverlabel": {
           "align": "left"
          },
          "hovermode": "closest",
          "mapbox": {
           "style": "light"
          },
          "paper_bgcolor": "white",
          "plot_bgcolor": "#E5ECF6",
          "polar": {
           "angularaxis": {
            "gridcolor": "white",
            "linecolor": "white",
            "ticks": ""
           },
           "bgcolor": "#E5ECF6",
           "radialaxis": {
            "gridcolor": "white",
            "linecolor": "white",
            "ticks": ""
           }
          },
          "scene": {
           "xaxis": {
            "backgroundcolor": "#E5ECF6",
            "gridcolor": "white",
            "gridwidth": 2,
            "linecolor": "white",
            "showbackground": true,
            "ticks": "",
            "zerolinecolor": "white"
           },
           "yaxis": {
            "backgroundcolor": "#E5ECF6",
            "gridcolor": "white",
            "gridwidth": 2,
            "linecolor": "white",
            "showbackground": true,
            "ticks": "",
            "zerolinecolor": "white"
           },
           "zaxis": {
            "backgroundcolor": "#E5ECF6",
            "gridcolor": "white",
            "gridwidth": 2,
            "linecolor": "white",
            "showbackground": true,
            "ticks": "",
            "zerolinecolor": "white"
           }
          },
          "shapedefaults": {
           "line": {
            "color": "#2a3f5f"
           }
          },
          "ternary": {
           "aaxis": {
            "gridcolor": "white",
            "linecolor": "white",
            "ticks": ""
           },
           "baxis": {
            "gridcolor": "white",
            "linecolor": "white",
            "ticks": ""
           },
           "bgcolor": "#E5ECF6",
           "caxis": {
            "gridcolor": "white",
            "linecolor": "white",
            "ticks": ""
           }
          },
          "title": {
           "x": 0.05
          },
          "xaxis": {
           "automargin": true,
           "gridcolor": "white",
           "linecolor": "white",
           "ticks": "",
           "title": {
            "standoff": 15
           },
           "zerolinecolor": "white",
           "zerolinewidth": 2
          },
          "yaxis": {
           "automargin": true,
           "gridcolor": "white",
           "linecolor": "white",
           "ticks": "",
           "title": {
            "standoff": 15
           },
           "zerolinecolor": "white",
           "zerolinewidth": 2
          }
         }
        },
        "title": {
         "text": "Interest Rates, Unemployment, 10y yields, inflation UE, volume sales"
        },
        "xaxis": {
         "range": [
          "2003-07-01",
          "2020-12-31"
         ],
         "rangeslider": {
          "visible": true
         }
        }
       }
      },
      "text/html": [
       "<div>                            <div id=\"f7555b34-353d-4d30-af29-073344e8a479\" class=\"plotly-graph-div\" style=\"height:525px; width:100%;\"></div>            <script type=\"text/javascript\">                require([\"plotly\"], function(Plotly) {                    window.PLOTLYENV=window.PLOTLYENV || {};                                    if (document.getElementById(\"f7555b34-353d-4d30-af29-073344e8a479\")) {                    Plotly.newPlot(                        \"f7555b34-353d-4d30-af29-073344e8a479\",                        [{\"line\":{\"color\":\"deepskyblue\"},\"name\":\"interest\",\"opacity\":0.8,\"type\":\"scatter\",\"x\":[\"2001-01\",\"2001-02\",\"2001-03\",\"2001-04\",\"2001-05\",\"2001-06\",\"2001-07\",\"2001-08\",\"2001-09\",\"2001-10\",\"2001-11\",\"2001-12\",\"2002-01\",\"2002-02\",\"2002-03\",\"2002-04\",\"2002-05\",\"2002-06\",\"2002-07\",\"2002-08\",\"2002-09\",\"2002-10\",\"2002-11\",\"2002-12\",\"2003-01\",\"2003-02\",\"2003-03\",\"2003-04\",\"2003-05\",\"2003-06\",\"2003-07\",\"2003-08\",\"2003-09\",\"2003-10\",\"2003-11\",\"2003-12\",\"2004-01\",\"2004-02\",\"2004-03\",\"2004-04\",\"2004-05\",\"2004-06\",\"2004-07\",\"2004-08\",\"2004-09\",\"2004-10\",\"2004-11\",\"2004-12\",\"2005-01\",\"2005-02\",\"2005-03\",\"2005-04\",\"2005-05\",\"2005-06\",\"2005-07\",\"2005-08\",\"2005-09\",\"2005-10\",\"2005-11\",\"2005-12\",\"2006-01\",\"2006-02\",\"2006-03\",\"2006-04\",\"2006-05\",\"2006-06\",\"2006-07\",\"2006-08\",\"2006-09\",\"2006-10\",\"2006-11\",\"2006-12\",\"2007-01\",\"2007-02\",\"2007-03\",\"2007-04\",\"2007-05\",\"2007-06\",\"2007-07\",\"2007-08\",\"2007-09\",\"2007-10\",\"2007-11\",\"2007-12\",\"2008-01\",\"2008-02\",\"2008-03\",\"2008-04\",\"2008-05\",\"2008-06\",\"2008-07\",\"2008-08\",\"2008-09\",\"2008-10\",\"2008-11\",\"2008-12\",\"2009-01\",\"2009-02\",\"2009-03\",\"2009-04\",\"2009-05\",\"2009-06\",\"2009-07\",\"2009-08\",\"2009-09\",\"2009-10\",\"2009-11\",\"2009-12\",\"2010-01\",\"2010-02\",\"2010-03\",\"2010-04\",\"2010-05\",\"2010-06\",\"2010-07\",\"2010-08\",\"2010-09\",\"2010-10\",\"2010-11\",\"2010-12\",\"2011-01\",\"2011-02\",\"2011-03\",\"2011-04\",\"2011-05\",\"2011-06\",\"2011-07\",\"2011-08\",\"2011-09\",\"2011-10\",\"2011-11\",\"2011-12\",\"2012-01\",\"2012-02\",\"2012-03\",\"2012-04\",\"2012-05\",\"2012-06\",\"2012-07\",\"2012-08\",\"2012-09\",\"2012-10\",\"2012-11\",\"2012-12\",\"2013-01\",\"2013-02\",\"2013-03\",\"2013-04\",\"2013-05\",\"2013-06\",\"2013-07\",\"2013-08\",\"2013-09\",\"2013-10\",\"2013-11\",\"2013-12\",\"2014-01\",\"2014-02\",\"2014-03\",\"2014-04\",\"2014-05\",\"2014-06\",\"2014-07\",\"2014-08\",\"2014-09\",\"2014-10\",\"2014-11\",\"2014-12\",\"2015-01\",\"2015-02\",\"2015-03\",\"2015-04\",\"2015-05\",\"2015-06\",\"2015-07\",\"2015-08\",\"2015-09\",\"2015-10\",\"2015-11\",\"2015-12\",\"2016-01\",\"2016-02\",\"2016-03\",\"2016-04\",\"2016-05\",\"2016-06\",\"2016-07\",\"2016-08\",\"2016-09\",\"2016-10\",\"2016-11\",\"2016-12\",\"2017-01\",\"2017-02\",\"2017-03\",\"2017-04\",\"2017-05\",\"2017-06\",\"2017-07\",\"2017-08\",\"2017-09\",\"2017-10\",\"2017-11\",\"2017-12\",\"2018-01\",\"2018-02\",\"2018-03\",\"2018-04\",\"2018-05\",\"2018-06\",\"2018-07\",\"2018-08\",\"2018-09\",\"2018-10\",\"2018-11\",\"2018-12\",\"2019-01\",\"2019-02\",\"2019-03\",\"2019-04\",\"2019-05\",\"2019-06\",\"2019-07\",\"2019-08\",\"2019-09\",\"2019-10\",\"2019-11\",\"2019-12\",\"2020-01\"],\"y\":[5.28,5.27,5.19,5.35,5.55,5.54,5.56,5.37,5.34,5.09,4.88,5.12,5.17,5.22,5.47,5.46,5.47,5.31,5.17,4.88,4.66,4.71,4.68,4.52,4.38,4.2,4.25,4.38,4.08,3.9,4.22,4.38,4.44,4.53,4.69,4.62,4.5,4.48,4.31,4.5,4.66,4.72,4.64,4.5,4.44,4.31,4.18,3.97,3.91,3.89,4.03,3.89,3.73,3.55,3.58,3.61,3.45,3.62,3.81,3.71,3.63,3.75,3.92,4.16,4.24,4.27,4.3,4.21,4.1,4.13,4.05,4.1,4.35,4.38,4.28,4.48,4.59,4.86,4.83,4.65,4.6,4.62,4.47,4.57,4.37,4.36,4.34,4.52,4.67,5.0,4.96,4.69,4.63,4.57,4.36,3.97,4.05,4.15,4.11,4.13,4.21,4.4,4.24,4.1,4.06,3.96,3.94,3.96,4.1,4.05,3.92,3.94,3.78,3.78,3.76,3.5,3.55,3.52,3.86,4.2,4.31,4.41,4.44,4.54,4.42,4.41,4.48,4.03,3.92,4.09,4.35,4.24,4.26,4.09,3.84,3.93,3.89,3.86,3.7,3.62,3.45,3.28,3.18,2.96,2.94,3.03,2.91,2.68,2.58,2.95,3.01,3.11,3.23,3.04,2.96,3.02,2.93,2.78,2.65,2.53,2.38,2.26,2.13,1.99,1.87,1.77,1.67,1.49,1.25,1.22,1.15,1.14,1.52,1.82,1.6,1.59,1.58,1.42,1.43,1.46,1.41,1.27,1.18,1.19,1.18,1.07,0.84,0.77,0.84,0.96,1.25,1.29,1.34,1.44,1.44,1.32,1.3,1.19,1.37,1.26,1.27,1.33,1.23,1.18,1.31,1.46,1.35,1.27,1.35,1.38,1.31,1.39,1.44,1.55,1.48,1.32,1.26,1.19,1.12,1.07,1.0,0.74,0.55,0.29,0.29,0.35,0.5,0.55,0.52]},{\"line\":{\"color\":\"red\"},\"name\":\"unemployment\",\"opacity\":0.8,\"type\":\"scatter\",\"x\":[\"1998-04\",\"1998-05\",\"1998-06\",\"1998-07\",\"1998-08\",\"1998-09\",\"1998-10\",\"1998-11\",\"1998-12\",\"1999-01\",\"1999-02\",\"1999-03\",\"1999-04\",\"1999-05\",\"1999-06\",\"1999-07\",\"1999-08\",\"1999-09\",\"1999-10\",\"1999-11\",\"1999-12\",\"2000-01\",\"2000-02\",\"2000-03\",\"2000-04\",\"2000-05\",\"2000-06\",\"2000-07\",\"2000-08\",\"2000-09\",\"2000-10\",\"2000-11\",\"2000-12\",\"2001-01\",\"2001-02\",\"2001-03\",\"2001-04\",\"2001-05\",\"2001-06\",\"2001-07\",\"2001-08\",\"2001-09\",\"2001-10\",\"2001-11\",\"2001-12\",\"2002-01\",\"2002-02\",\"2002-03\",\"2002-04\",\"2002-05\",\"2002-06\",\"2002-07\",\"2002-08\",\"2002-09\",\"2002-10\",\"2002-11\",\"2002-12\",\"2003-01\",\"2003-02\",\"2003-03\",\"2003-04\",\"2003-05\",\"2003-06\",\"2003-07\",\"2003-08\",\"2003-09\",\"2003-10\",\"2003-11\",\"2003-12\",\"2004-01\",\"2004-02\",\"2004-03\",\"2004-04\",\"2004-05\",\"2004-06\",\"2004-07\",\"2004-08\",\"2004-09\",\"2004-10\",\"2004-11\",\"2004-12\",\"2005-01\",\"2005-02\",\"2005-03\",\"2005-04\",\"2005-05\",\"2005-06\",\"2005-07\",\"2005-08\",\"2005-09\",\"2005-10\",\"2005-11\",\"2005-12\",\"2006-01\",\"2006-02\",\"2006-03\",\"2006-04\",\"2006-05\",\"2006-06\",\"2006-07\",\"2006-08\",\"2006-09\",\"2006-10\",\"2006-11\",\"2006-12\",\"2007-01\",\"2007-02\",\"2007-03\",\"2007-04\",\"2007-05\",\"2007-06\",\"2007-07\",\"2007-08\",\"2007-09\",\"2007-10\",\"2007-11\",\"2007-12\",\"2008-01\",\"2008-02\",\"2008-03\",\"2008-04\",\"2008-05\",\"2008-06\",\"2008-07\",\"2008-08\",\"2008-09\",\"2008-10\",\"2008-11\",\"2008-12\",\"2009-01\",\"2009-02\",\"2009-03\",\"2009-04\",\"2009-05\",\"2009-06\",\"2009-07\",\"2009-08\",\"2009-09\",\"2009-10\",\"2009-11\",\"2009-12\",\"2010-01\",\"2010-02\",\"2010-03\",\"2010-04\",\"2010-05\",\"2010-06\",\"2010-07\",\"2010-08\",\"2010-09\",\"2010-10\",\"2010-11\",\"2010-12\",\"2011-01\",\"2011-02\",\"2011-03\",\"2011-04\",\"2011-05\",\"2011-06\",\"2011-07\",\"2011-08\",\"2011-09\",\"2011-10\",\"2011-11\",\"2011-12\",\"2012-01\",\"2012-02\",\"2012-03\",\"2012-04\",\"2012-05\",\"2012-06\",\"2012-07\",\"2012-08\",\"2012-09\",\"2012-10\",\"2012-11\",\"2012-12\",\"2013-01\",\"2013-02\",\"2013-03\",\"2013-04\",\"2013-05\",\"2013-06\",\"2013-07\",\"2013-08\",\"2013-09\",\"2013-10\",\"2013-11\",\"2013-12\",\"2014-01\",\"2014-02\",\"2014-03\",\"2014-04\",\"2014-05\",\"2014-06\",\"2014-07\",\"2014-08\",\"2014-09\",\"2014-10\",\"2014-11\",\"2014-12\",\"2015-01\",\"2015-02\",\"2015-03\",\"2015-04\",\"2015-05\",\"2015-06\",\"2015-07\",\"2015-08\",\"2015-09\",\"2015-10\",\"2015-11\",\"2015-12\",\"2016-01\",\"2016-02\",\"2016-03\",\"2016-04\",\"2016-05\",\"2016-06\",\"2016-07\",\"2016-08\",\"2016-09\",\"2016-10\",\"2016-11\",\"2016-12\",\"2017-01\",\"2017-02\",\"2017-03\",\"2017-04\",\"2017-05\",\"2017-06\",\"2017-07\",\"2017-08\",\"2017-09\",\"2017-10\",\"2017-11\",\"2017-12\",\"2018-01\",\"2018-02\",\"2018-03\",\"2018-04\",\"2018-05\",\"2018-06\",\"2018-07\",\"2018-08\",\"2018-09\",\"2018-10\",\"2018-11\",\"2018-12\",\"2019-01\",\"2019-02\",\"2019-03\",\"2019-04\",\"2019-05\",\"2019-06\",\"2019-07\",\"2019-08\",\"2019-09\",\"2019-10\",\"2019-11\",\"2019-12\",\"2020-01\",\"2020-02\",\"2020-03\",\"2020-04\",\"2020-05\",\"2020-06\",\"2020-07\",\"2020-08\",\"2020-09\",\"2020-10\",\"2020-11\",\"2020-12\",\"2021-01\",\"2021-02\",\"2021-03\",\"2021-04\",\"2021-05\",\"2021-06\",\"2021-07\",\"2021-08\"],\"y\":[10.7,10.4,10.4,10.3,10.1,9.9,10.1,10.1,10.1,10.2,10.3,10.2,10.0,9.7,9.7,9.6,9.4,9.2,9.4,9.4,9.3,9.4,9.6,9.5,9.1,8.8,8.8,8.8,8.6,8.4,8.5,8.5,8.4,8.5,8.7,8.6,8.3,8.1,8.1,8.1,8.1,8.0,8.2,8.3,8.4,8.6,8.8,8.8,8.6,8.4,8.4,8.5,8.5,8.4,8.6,8.7,8.9,9.3,9.5,9.5,9.2,8.9,8.9,8.8,8.8,8.7,9.0,9.1,9.2,9.7,9.7,9.7,9.4,9.1,9.0,8.9,9.0,9.2,9.3,9.5,9.4,9.7,9.8,9.7,9.2,9.2,8.9,8.6,8.8,9.0,9.2,9.1,9.0,9.3,9.3,9.1,8.6,8.3,8.1,7.9,8.0,8.1,8.2,8.3,8.0,8.2,8.3,7.9,7.6,7.5,7.2,7.2,7.2,7.3,7.3,7.4,7.5,7.7,7.7,7.5,7.5,7.3,7.4,7.2,7.3,7.4,7.7,8.1,8.4,9.2,9.6,9.8,9.7,9.5,9.4,9.5,9.5,9.8,10.0,10.1,10.2,10.8,10.9,10.7,10.5,10.3,9.9,9.9,9.7,10.0,10.3,10.2,10.2,10.6,10.6,10.5,10.0,9.9,9.8,9.8,9.9,10.1,10.4,10.8,10.8,11.4,11.5,11.6,11.4,11.3,11.1,11.1,11.1,11.3,11.8,12.0,11.9,12.7,12.8,12.5,12.3,12.0,11.7,11.6,11.5,11.8,12.0,12.1,11.9,12.5,12.5,12.3,11.8,11.6,11.1,11.1,11.0,11.3,11.6,11.8,11.3,11.7,11.8,11.6,11.2,10.9,10.7,10.3,10.2,10.4,10.7,10.7,10.6,10.7,10.9,10.6,10.3,10.1,9.8,9.6,9.6,9.7,9.8,10.0,9.6,10.0,10.0,9.7,9.3,9.1,8.7,8.7,8.7,8.7,8.8,8.8,8.6,9.0,9.0,8.8,8.5,8.1,8.0,7.8,7.7,7.8,8.0,8.0,7.8,8.2,8.2,8.0,7.7,7.4,7.2,7.3,7.3,7.4,7.4,7.5,7.4,7.8,7.7,7.3,7.2,7.3,7.8,8.4,8.6,8.6,8.3,8.0,8.0,8.6,8.5,8.3,8.2,7.9,7.5,7.4,7.4]},{\"line\":{\"color\":\"green\"},\"name\":\"euro_yields_10y\",\"opacity\":0.8,\"type\":\"scatter\",\"x\":[\"2004-09\",\"2004-10\",\"2004-11\",\"2004-12\",\"2005-01\",\"2005-02\",\"2005-03\",\"2005-04\",\"2005-05\",\"2005-06\",\"2005-07\",\"2005-08\",\"2005-09\",\"2005-10\",\"2005-11\",\"2005-12\",\"2006-01\",\"2006-02\",\"2006-03\",\"2006-04\",\"2006-05\",\"2006-06\",\"2006-07\",\"2006-08\",\"2006-09\",\"2006-10\",\"2006-11\",\"2006-12\",\"2007-01\",\"2007-02\",\"2007-03\",\"2007-04\",\"2007-05\",\"2007-06\",\"2007-07\",\"2007-08\",\"2007-09\",\"2007-10\",\"2007-11\",\"2007-12\",\"2008-01\",\"2008-02\",\"2008-03\",\"2008-04\",\"2008-05\",\"2008-06\",\"2008-07\",\"2008-08\",\"2008-09\",\"2008-10\",\"2008-11\",\"2008-12\",\"2009-01\",\"2009-02\",\"2009-03\",\"2009-04\",\"2009-05\",\"2009-06\",\"2009-07\",\"2009-08\",\"2009-09\",\"2009-10\",\"2009-11\",\"2009-12\",\"2010-01\",\"2010-02\",\"2010-03\",\"2010-04\",\"2010-05\",\"2010-06\",\"2010-07\",\"2010-08\",\"2010-09\",\"2010-10\",\"2010-11\",\"2010-12\",\"2011-01\",\"2011-02\",\"2011-03\",\"2011-04\",\"2011-05\",\"2011-06\",\"2011-07\",\"2011-08\",\"2011-09\",\"2011-10\",\"2011-11\",\"2011-12\",\"2012-01\",\"2012-02\",\"2012-03\",\"2012-04\",\"2012-05\",\"2012-06\",\"2012-07\",\"2012-08\",\"2012-09\",\"2012-10\",\"2012-11\",\"2012-12\",\"2013-01\",\"2013-02\",\"2013-03\",\"2013-04\",\"2013-05\",\"2013-06\",\"2013-07\",\"2013-08\",\"2013-09\",\"2013-10\",\"2013-11\",\"2013-12\",\"2014-01\",\"2014-02\",\"2014-03\",\"2014-04\",\"2014-05\",\"2014-06\",\"2014-07\",\"2014-08\",\"2014-09\",\"2014-10\",\"2014-11\",\"2014-12\",\"2015-01\",\"2015-02\",\"2015-03\",\"2015-04\",\"2015-05\",\"2015-06\",\"2015-07\",\"2015-08\",\"2015-09\",\"2015-10\",\"2015-11\",\"2015-12\",\"2016-01\",\"2016-02\",\"2016-03\",\"2016-04\",\"2016-05\",\"2016-06\",\"2016-07\",\"2016-08\",\"2016-09\",\"2016-10\",\"2016-11\",\"2016-12\",\"2017-01\",\"2017-02\",\"2017-03\",\"2017-04\",\"2017-05\",\"2017-06\",\"2017-07\",\"2017-08\",\"2017-09\",\"2017-10\",\"2017-11\",\"2017-12\",\"2018-01\",\"2018-02\",\"2018-03\",\"2018-04\",\"2018-05\",\"2018-06\",\"2018-07\",\"2018-08\",\"2018-09\",\"2018-10\",\"2018-11\",\"2018-12\",\"2019-01\",\"2019-02\",\"2019-03\",\"2019-04\",\"2019-05\",\"2019-06\",\"2019-07\",\"2019-08\",\"2019-09\",\"2019-10\",\"2019-11\",\"2019-12\",\"2020-01\",\"2020-02\",\"2020-03\",\"2020-04\",\"2020-05\",\"2020-06\",\"2020-07\",\"2020-08\",\"2020-09\",\"2020-10\",\"2020-11\",\"2020-12\",\"2021-01\",\"2021-02\",\"2021-03\",\"2021-04\",\"2021-05\",\"2021-06\",\"2021-07\",\"2021-08\",\"2021-09\"],\"y\":[5.20765,5.17056,5.06392,4.75177,4.58669,4.4316,4.66631,4.5628,4.43398,4.25942,4.29541,4.25316,4.02657,3.9731,4.14664,3.98517,3.88725,4.01175,4.13023,4.46636,4.60435,4.60433,4.58732,4.4336,4.18536,4.08344,4.00798,4.0525,4.28806,4.30145,4.25388,4.45008,4.53757,4.83813,4.78983,4.74923,4.79214,4.80407,4.78515,4.88971,4.90469,5.07309,5.15281,5.09128,5.04348,5.08382,5.14537,5.07307,5.16627,5.04335,5.13158,4.68898,5.17846,5.31776,5.43797,5.50931,5.66255,5.76882,5.72366,5.37099,5.49449,5.45782,5.46389,5.40894,5.47762,5.49226,5.44761,5.48005,5.48425,5.47134,5.41568,5.07257,5.07168,5.0067,5.08683,5.27271,5.33576,5.42766,5.39091,5.36635,5.17882,5.23898,5.35923,5.23906,5.33147,5.50974,6.0217,5.62509,5.6859,5.29426,5.09295,5.1819,4.9835,5.02482,5.09173,4.91702,4.80538,4.71737,4.69182,4.46499,4.47813,4.5768,4.47029,4.1747,4.16528,4.3136,4.40205,4.47165,4.60075,4.53558,4.53696,4.52302,4.43002,4.2548,4.09882,4.00713,3.8981,3.88013,3.69875,3.37871,3.38739,3.27708,3.14278,2.75593,2.27308,2.02137,1.71224,1.68161,2.48919,3.06162,3.0303,2.84211,2.88099,2.60266,2.633,2.63992,2.59026,2.3192,2.24133,2.16587,2.21076,1.91694,1.60278,1.49912,1.63111,1.77394,2.21253,2.37387,2.55791,2.70057,2.69942,2.54507,2.55745,2.43227,2.57261,2.46066,2.51486,2.5428,2.42922,2.35879,2.45888,2.47669,2.31086,2.27342,2.31637,2.13043,2.05819,2.19847,2.1735,2.17317,2.13483,2.21085,2.15008,1.94674,1.85303,1.67536,1.52428,1.12326,1.04939,0.526,0.73917,0.80014,0.93848,1.02717,0.93626,0.67673,0.90962,1.24026,1.11692,0.91542,0.72712,0.67022,0.62189,0.57395,0.51743,0.47981,0.49949,0.76913,0.96376,1.02024,1.22854,1.17677,0.98166,0.81997,0.99479]},{\"line\":{\"color\":\"orange\"},\"name\":\"inflation\",\"opacity\":0.8,\"type\":\"scatter\",\"x\":[\"1960\",\"1961\",\"1962\",\"1963\",\"1964\",\"1965\",\"1966\",\"1967\",\"1968\",\"1969\",\"1970\",\"1971\",\"1972\",\"1973\",\"1974\",\"1975\",\"1976\",\"1977\",\"1978\",\"1979\",\"1980\",\"1981\",\"1982\",\"1983\",\"1984\",\"1985\",\"1986\",\"1987\",\"1988\",\"1989\",\"1990\",\"1991\",\"1992\",\"1993\",\"1994\",\"1995\",\"1996\",\"1997\",\"1998\",\"1999\",\"2000\",\"2001\",\"2002\",\"2003\",\"2004\",\"2005\",\"2006\",\"2007\",\"2008\",\"2009\",\"2010\",\"2011\",\"2012\",\"2013\",\"2014\",\"2015\",\"2016\",\"2017\",\"2018\",\"2019\",\"2020\"],\"y\":[1.74118045584826,2.07712948741101,3.55350360375607,2.92164166264774,3.41628039655558,3.98661388434155,3.7033562981507,3.31931754624681,3.24282812207261,2.67462365971334,4.50608892986038,5.24097417077837,6.00738969862495,7.74908612919203,13.1636026120795,10.4675758306121,9.34705279605246,9.76746473607034,7.75524596278477,8.2216869300552,12.9114423266382,11.7673874344182,9.58492764677443,8.66927159808515,7.6738026224732,5.39549731466383,3.67818411863458,4.01999345683155,4.53513301015726,6.25983137956973,6.14956531179854,5.48474275083469,6.21737690900003,4.85416666666693,4.71841328382086,4.42664550286656,3.55884083117293,3.11207791953274,2.41551787239232,2.15717918055056,3.15076707022592,3.37396699038281,2.42443661219694,2.09199838997658,2.28621706801675,2.48769665164086,2.66631494577072,2.51066565240339,4.1649719352477,0.83926224679384,1.53112270420924,3.28944939564212,2.66284165508017,1.21999342274305,0.199343826570849,-0.0616446800641176,0.183334861123848,1.42910743319297,1.73860861988181,1.63052260754338,0.502028604403418]},{\"line\":{\"color\":\"pink\"},\"name\":\"GDP growth\",\"opacity\":0.8,\"type\":\"scatter\",\"x\":[\"1960\",\"1961\",\"1962\",\"1963\",\"1964\",\"1965\",\"1966\",\"1967\",\"1968\",\"1969\",\"1970\",\"1971\",\"1972\",\"1973\",\"1974\",\"1975\",\"1976\",\"1977\",\"1978\",\"1979\",\"1980\",\"1981\",\"1982\",\"1983\",\"1984\",\"1985\",\"1986\",\"1987\",\"1988\",\"1989\",\"1990\",\"1991\",\"1992\",\"1993\",\"1994\",\"1995\",\"1996\",\"1997\",\"1998\",\"1999\",\"2000\",\"2001\",\"2002\",\"2003\",\"2004\",\"2005\",\"2006\",\"2007\",\"2008\",\"2009\",\"2010\",\"2011\",\"2012\",\"2013\",\"2014\",\"2015\",\"2016\",\"2017\",\"2018\",\"2019\",\"2020\"],\"y\":[\"NA\",\"NA\",\"NA\",\"NA\",\"NA\",\"NA\",\"NA\",\"NA\",\"NA\",\"NA\",\"NA\",3.65995270698232,4.78510857323799,6.03318350638477,3.09914983305156,-0.648403581592461,4.89765969721161,2.8769400886067,3.05660927303013,3.84491853161275,2.07093489668422,0.502355946004101,0.816194455396641,1.44131252537758,2.48529638155601,2.35056662930484,2.5866171609056,2.52816374424737,4.16830425124233,3.92401201614308,3.37066821988184,1.84129136810365,1.16405892758293,-0.573912441362936,2.64906610224764,2.66738996817932,1.89217130756212,2.6645667961099,3.01877492364856,2.95859462195483,3.90890069501526,2.18443172802077,1.12317014112575,0.929380867117942,2.59534264968548,1.93483834496035,3.49262891024343,3.15233368938709,0.645831791734167,-4.32573931696186,2.21061429802943,1.81701373960948,-0.747025971716496,-0.0478238394554324,1.57371689308464,2.30211242110556,2.00664875170833,2.80306329867453,2.11404920350664,1.55972588697249,-6.20157283789507]},{\"line\":{\"color\":\"black\"},\"name\":\"% Monthly Change Volume Sales\",\"opacity\":0.8,\"type\":\"scatter\",\"x\":[\"2001-01\",\"2001-02\",\"2001-03\",\"2001-04\",\"2001-05\",\"2001-06\",\"2001-07\",\"2001-08\",\"2001-09\",\"2001-10\",\"2001-11\",\"2001-12\",\"2002-01\",\"2002-02\",\"2002-03\",\"2002-04\",\"2002-05\",\"2002-06\",\"2002-07\",\"2002-08\",\"2002-09\",\"2002-10\",\"2002-11\",\"2002-12\",\"2003-01\",\"2003-02\",\"2003-03\",\"2003-04\",\"2003-05\",\"2003-06\",\"2003-07\",\"2003-08\",\"2003-09\",\"2003-10\",\"2003-11\",\"2003-12\",\"2004-01\",\"2004-02\",\"2004-03\",\"2004-04\",\"2004-05\",\"2004-06\",\"2004-07\",\"2004-08\",\"2004-09\",\"2004-10\",\"2004-11\",\"2004-12\",\"2005-01\",\"2005-02\",\"2005-03\",\"2005-04\",\"2005-05\",\"2005-06\",\"2005-07\",\"2005-08\",\"2005-09\",\"2005-10\",\"2005-11\",\"2005-12\",\"2006-01\",\"2006-02\",\"2006-03\",\"2006-04\",\"2006-05\",\"2006-06\",\"2006-07\",\"2006-08\",\"2006-09\",\"2006-10\",\"2006-11\",\"2006-12\",\"2007-01\",\"2007-02\",\"2007-03\",\"2007-04\",\"2007-05\",\"2007-06\",\"2007-07\",\"2007-08\",\"2007-09\",\"2007-10\",\"2007-11\",\"2007-12\",\"2008-01\",\"2008-02\",\"2008-03\",\"2008-04\",\"2008-05\",\"2008-06\",\"2008-07\",\"2008-08\",\"2008-09\",\"2008-10\",\"2008-11\",\"2008-12\",\"2009-01\",\"2009-02\",\"2009-03\",\"2009-04\",\"2009-05\",\"2009-06\",\"2009-07\",\"2009-08\",\"2009-09\",\"2009-10\",\"2009-11\",\"2009-12\",\"2010-01\",\"2010-02\",\"2010-03\",\"2010-04\",\"2010-05\",\"2010-06\",\"2010-07\",\"2010-08\",\"2010-09\",\"2010-10\",\"2010-11\",\"2010-12\",\"2011-01\",\"2011-02\",\"2011-03\",\"2011-04\",\"2011-05\",\"2011-06\",\"2011-07\",\"2011-08\",\"2011-09\",\"2011-10\",\"2011-11\",\"2011-12\",\"2012-01\",\"2012-02\",\"2012-03\",\"2012-04\",\"2012-05\",\"2012-06\",\"2012-07\",\"2012-08\",\"2012-09\",\"2012-10\",\"2012-11\",\"2012-12\",\"2013-01\",\"2013-02\",\"2013-03\",\"2013-04\",\"2013-05\",\"2013-06\",\"2013-07\",\"2013-08\",\"2013-09\",\"2013-10\",\"2013-11\",\"2013-12\",\"2014-01\",\"2014-02\",\"2014-03\",\"2014-04\",\"2014-05\",\"2014-06\",\"2014-07\",\"2014-08\",\"2014-09\",\"2014-10\",\"2014-11\",\"2014-12\",\"2015-01\",\"2015-02\",\"2015-03\",\"2015-04\",\"2015-05\",\"2015-06\",\"2015-07\",\"2015-08\",\"2015-09\",\"2015-10\",\"2015-11\",\"2015-12\",\"2016-01\",\"2016-02\",\"2016-03\",\"2016-04\",\"2016-05\",\"2016-06\",\"2016-07\",\"2016-08\",\"2016-09\",\"2016-10\",\"2016-11\",\"2016-12\",\"2017-01\",\"2017-02\",\"2017-03\",\"2017-04\",\"2017-05\",\"2017-06\",\"2017-07\",\"2017-08\",\"2017-09\",\"2017-10\",\"2017-11\",\"2017-12\",\"2018-01\",\"2018-02\",\"2018-03\",\"2018-04\",\"2018-05\",\"2018-06\",\"2018-07\",\"2018-08\",\"2018-09\",\"2018-10\",\"2018-11\",\"2018-12\",\"2019-01\",\"2019-02\",\"2019-03\",\"2019-04\",\"2019-05\",\"2019-06\",\"2019-07\",\"2019-08\",\"2019-09\",\"2019-10\",\"2019-11\",\"2019-12\",\"2020-01\",\"2020-02\",\"2020-03\",\"2020-04\",\"2020-05\",\"2020-06\",\"2020-07\",\"2020-08\",\"2020-09\",\"2020-10\",\"2020-11\",\"2020-12\",\"2021-01\",\"2021-02\",\"2021-03\",\"2021-04\",\"2021-05\",\"2021-06\",\"2021-07\",\"2021-08\"],\"y\":[6.0,4.8,5.0,4.8,4.6,5.8,4.3,5.1,4.0,2.3,2.7,3.2,0.5,2.3,2.3,2.2,2.1,0.9,1.9,1.9,2.2,3.7,1.3,0.8,3.6,2.9,2.2,2.2,1.1,1.8,1.1,1.1,1.0,1.9,0.6,1.1,2.5,1.1,2.2,2.9,2.0,3.9,3.1,2.8,2.3,1.5,3.7,3.4,2.9,2.8,3.1,1.7,2.1,2.6,3.4,5.2,4.0,3.5,1.6,1.9,3.3,3.9,3.0,4.0,4.8,4.3,4.8,4.6,2.9,2.6,3.5,4.2,2.1,2.2,3.5,3.3,1.4,2.3,2.5,2.5,3.1,3.3,3.2,1.5,5.2,5.4,2.4,2.4,4.9,3.0,3.1,2.8,3.3,0.7,-0.8,-1.6,-3.2,-5.2,-4.5,-3.7,-5.3,-4.7,-4.5,-4.6,-5.2,-3.1,-3.1,-0.3,0.8,0.7,3.4,1.5,2.7,2.2,2.2,2.8,2.5,2.6,3.7,1.7,2.7,3.3,1.1,3.1,0.5,1.8,1.8,2.3,1.7,2.2,1.5,0.4,1.5,0.4,2.4,-0.9,2.0,1.1,0.2,1.4,0.4,-0.9,-0.5,-0.4,-1.1,-0.7,-1.4,-0.5,0.3,-0.5,0.1,0.1,-0.1,-0.3,1.4,-0.2,0.8,0.9,0.6,1.5,0.1,1.2,-0.4,0.9,0.1,0.7,0.4,0.8,0.4,1.2,0.6,1.6,2.6,2.5,3.4,1.6,1.8,1.4,1.1,1.8,1.2,1.3,0.7,-0.1,0.1,0.5,0.5,1.0,0.7,2.9,3.1,2.1,3.3,3.8,4.9,4.1,4.1,4.2,3.3,3.0,5.2,1.3,5.3,3.4,2.6,2.5,2.3,3.0,3.5,3.8,3.2,4.3,1.9,4.4,3.0,1.0,2.7,3.8,2.9,3.0,1.8,3.1,2.7,3.0,2.8,1.8,2.5,2.7,3.0,3.2,-7.5,-18.6,-2.9,1.2,1.1,4.3,2.2,4.2,-1.8,1.1,-4.3,-1.1,14.7,24.8,10.5,7.7,4.8,2.7]}],                        {\"template\":{\"data\":{\"bar\":[{\"error_x\":{\"color\":\"#2a3f5f\"},\"error_y\":{\"color\":\"#2a3f5f\"},\"marker\":{\"line\":{\"color\":\"#E5ECF6\",\"width\":0.5},\"pattern\":{\"fillmode\":\"overlay\",\"size\":10,\"solidity\":0.2}},\"type\":\"bar\"}],\"barpolar\":[{\"marker\":{\"line\":{\"color\":\"#E5ECF6\",\"width\":0.5},\"pattern\":{\"fillmode\":\"overlay\",\"size\":10,\"solidity\":0.2}},\"type\":\"barpolar\"}],\"carpet\":[{\"aaxis\":{\"endlinecolor\":\"#2a3f5f\",\"gridcolor\":\"white\",\"linecolor\":\"white\",\"minorgridcolor\":\"white\",\"startlinecolor\":\"#2a3f5f\"},\"baxis\":{\"endlinecolor\":\"#2a3f5f\",\"gridcolor\":\"white\",\"linecolor\":\"white\",\"minorgridcolor\":\"white\",\"startlinecolor\":\"#2a3f5f\"},\"type\":\"carpet\"}],\"choropleth\":[{\"colorbar\":{\"outlinewidth\":0,\"ticks\":\"\"},\"type\":\"choropleth\"}],\"contour\":[{\"colorbar\":{\"outlinewidth\":0,\"ticks\":\"\"},\"colorscale\":[[0.0,\"#0d0887\"],[0.1111111111111111,\"#46039f\"],[0.2222222222222222,\"#7201a8\"],[0.3333333333333333,\"#9c179e\"],[0.4444444444444444,\"#bd3786\"],[0.5555555555555556,\"#d8576b\"],[0.6666666666666666,\"#ed7953\"],[0.7777777777777778,\"#fb9f3a\"],[0.8888888888888888,\"#fdca26\"],[1.0,\"#f0f921\"]],\"type\":\"contour\"}],\"contourcarpet\":[{\"colorbar\":{\"outlinewidth\":0,\"ticks\":\"\"},\"type\":\"contourcarpet\"}],\"heatmap\":[{\"colorbar\":{\"outlinewidth\":0,\"ticks\":\"\"},\"colorscale\":[[0.0,\"#0d0887\"],[0.1111111111111111,\"#46039f\"],[0.2222222222222222,\"#7201a8\"],[0.3333333333333333,\"#9c179e\"],[0.4444444444444444,\"#bd3786\"],[0.5555555555555556,\"#d8576b\"],[0.6666666666666666,\"#ed7953\"],[0.7777777777777778,\"#fb9f3a\"],[0.8888888888888888,\"#fdca26\"],[1.0,\"#f0f921\"]],\"type\":\"heatmap\"}],\"heatmapgl\":[{\"colorbar\":{\"outlinewidth\":0,\"ticks\":\"\"},\"colorscale\":[[0.0,\"#0d0887\"],[0.1111111111111111,\"#46039f\"],[0.2222222222222222,\"#7201a8\"],[0.3333333333333333,\"#9c179e\"],[0.4444444444444444,\"#bd3786\"],[0.5555555555555556,\"#d8576b\"],[0.6666666666666666,\"#ed7953\"],[0.7777777777777778,\"#fb9f3a\"],[0.8888888888888888,\"#fdca26\"],[1.0,\"#f0f921\"]],\"type\":\"heatmapgl\"}],\"histogram\":[{\"marker\":{\"pattern\":{\"fillmode\":\"overlay\",\"size\":10,\"solidity\":0.2}},\"type\":\"histogram\"}],\"histogram2d\":[{\"colorbar\":{\"outlinewidth\":0,\"ticks\":\"\"},\"colorscale\":[[0.0,\"#0d0887\"],[0.1111111111111111,\"#46039f\"],[0.2222222222222222,\"#7201a8\"],[0.3333333333333333,\"#9c179e\"],[0.4444444444444444,\"#bd3786\"],[0.5555555555555556,\"#d8576b\"],[0.6666666666666666,\"#ed7953\"],[0.7777777777777778,\"#fb9f3a\"],[0.8888888888888888,\"#fdca26\"],[1.0,\"#f0f921\"]],\"type\":\"histogram2d\"}],\"histogram2dcontour\":[{\"colorbar\":{\"outlinewidth\":0,\"ticks\":\"\"},\"colorscale\":[[0.0,\"#0d0887\"],[0.1111111111111111,\"#46039f\"],[0.2222222222222222,\"#7201a8\"],[0.3333333333333333,\"#9c179e\"],[0.4444444444444444,\"#bd3786\"],[0.5555555555555556,\"#d8576b\"],[0.6666666666666666,\"#ed7953\"],[0.7777777777777778,\"#fb9f3a\"],[0.8888888888888888,\"#fdca26\"],[1.0,\"#f0f921\"]],\"type\":\"histogram2dcontour\"}],\"mesh3d\":[{\"colorbar\":{\"outlinewidth\":0,\"ticks\":\"\"},\"type\":\"mesh3d\"}],\"parcoords\":[{\"line\":{\"colorbar\":{\"outlinewidth\":0,\"ticks\":\"\"}},\"type\":\"parcoords\"}],\"pie\":[{\"automargin\":true,\"type\":\"pie\"}],\"scatter\":[{\"marker\":{\"colorbar\":{\"outlinewidth\":0,\"ticks\":\"\"}},\"type\":\"scatter\"}],\"scatter3d\":[{\"line\":{\"colorbar\":{\"outlinewidth\":0,\"ticks\":\"\"}},\"marker\":{\"colorbar\":{\"outlinewidth\":0,\"ticks\":\"\"}},\"type\":\"scatter3d\"}],\"scattercarpet\":[{\"marker\":{\"colorbar\":{\"outlinewidth\":0,\"ticks\":\"\"}},\"type\":\"scattercarpet\"}],\"scattergeo\":[{\"marker\":{\"colorbar\":{\"outlinewidth\":0,\"ticks\":\"\"}},\"type\":\"scattergeo\"}],\"scattergl\":[{\"marker\":{\"colorbar\":{\"outlinewidth\":0,\"ticks\":\"\"}},\"type\":\"scattergl\"}],\"scattermapbox\":[{\"marker\":{\"colorbar\":{\"outlinewidth\":0,\"ticks\":\"\"}},\"type\":\"scattermapbox\"}],\"scatterpolar\":[{\"marker\":{\"colorbar\":{\"outlinewidth\":0,\"ticks\":\"\"}},\"type\":\"scatterpolar\"}],\"scatterpolargl\":[{\"marker\":{\"colorbar\":{\"outlinewidth\":0,\"ticks\":\"\"}},\"type\":\"scatterpolargl\"}],\"scatterternary\":[{\"marker\":{\"colorbar\":{\"outlinewidth\":0,\"ticks\":\"\"}},\"type\":\"scatterternary\"}],\"surface\":[{\"colorbar\":{\"outlinewidth\":0,\"ticks\":\"\"},\"colorscale\":[[0.0,\"#0d0887\"],[0.1111111111111111,\"#46039f\"],[0.2222222222222222,\"#7201a8\"],[0.3333333333333333,\"#9c179e\"],[0.4444444444444444,\"#bd3786\"],[0.5555555555555556,\"#d8576b\"],[0.6666666666666666,\"#ed7953\"],[0.7777777777777778,\"#fb9f3a\"],[0.8888888888888888,\"#fdca26\"],[1.0,\"#f0f921\"]],\"type\":\"surface\"}],\"table\":[{\"cells\":{\"fill\":{\"color\":\"#EBF0F8\"},\"line\":{\"color\":\"white\"}},\"header\":{\"fill\":{\"color\":\"#C8D4E3\"},\"line\":{\"color\":\"white\"}},\"type\":\"table\"}]},\"layout\":{\"annotationdefaults\":{\"arrowcolor\":\"#2a3f5f\",\"arrowhead\":0,\"arrowwidth\":1},\"autotypenumbers\":\"strict\",\"coloraxis\":{\"colorbar\":{\"outlinewidth\":0,\"ticks\":\"\"}},\"colorscale\":{\"diverging\":[[0,\"#8e0152\"],[0.1,\"#c51b7d\"],[0.2,\"#de77ae\"],[0.3,\"#f1b6da\"],[0.4,\"#fde0ef\"],[0.5,\"#f7f7f7\"],[0.6,\"#e6f5d0\"],[0.7,\"#b8e186\"],[0.8,\"#7fbc41\"],[0.9,\"#4d9221\"],[1,\"#276419\"]],\"sequential\":[[0.0,\"#0d0887\"],[0.1111111111111111,\"#46039f\"],[0.2222222222222222,\"#7201a8\"],[0.3333333333333333,\"#9c179e\"],[0.4444444444444444,\"#bd3786\"],[0.5555555555555556,\"#d8576b\"],[0.6666666666666666,\"#ed7953\"],[0.7777777777777778,\"#fb9f3a\"],[0.8888888888888888,\"#fdca26\"],[1.0,\"#f0f921\"]],\"sequentialminus\":[[0.0,\"#0d0887\"],[0.1111111111111111,\"#46039f\"],[0.2222222222222222,\"#7201a8\"],[0.3333333333333333,\"#9c179e\"],[0.4444444444444444,\"#bd3786\"],[0.5555555555555556,\"#d8576b\"],[0.6666666666666666,\"#ed7953\"],[0.7777777777777778,\"#fb9f3a\"],[0.8888888888888888,\"#fdca26\"],[1.0,\"#f0f921\"]]},\"colorway\":[\"#636efa\",\"#EF553B\",\"#00cc96\",\"#ab63fa\",\"#FFA15A\",\"#19d3f3\",\"#FF6692\",\"#B6E880\",\"#FF97FF\",\"#FECB52\"],\"font\":{\"color\":\"#2a3f5f\"},\"geo\":{\"bgcolor\":\"white\",\"lakecolor\":\"white\",\"landcolor\":\"#E5ECF6\",\"showlakes\":true,\"showland\":true,\"subunitcolor\":\"white\"},\"hoverlabel\":{\"align\":\"left\"},\"hovermode\":\"closest\",\"mapbox\":{\"style\":\"light\"},\"paper_bgcolor\":\"white\",\"plot_bgcolor\":\"#E5ECF6\",\"polar\":{\"angularaxis\":{\"gridcolor\":\"white\",\"linecolor\":\"white\",\"ticks\":\"\"},\"bgcolor\":\"#E5ECF6\",\"radialaxis\":{\"gridcolor\":\"white\",\"linecolor\":\"white\",\"ticks\":\"\"}},\"scene\":{\"xaxis\":{\"backgroundcolor\":\"#E5ECF6\",\"gridcolor\":\"white\",\"gridwidth\":2,\"linecolor\":\"white\",\"showbackground\":true,\"ticks\":\"\",\"zerolinecolor\":\"white\"},\"yaxis\":{\"backgroundcolor\":\"#E5ECF6\",\"gridcolor\":\"white\",\"gridwidth\":2,\"linecolor\":\"white\",\"showbackground\":true,\"ticks\":\"\",\"zerolinecolor\":\"white\"},\"zaxis\":{\"backgroundcolor\":\"#E5ECF6\",\"gridcolor\":\"white\",\"gridwidth\":2,\"linecolor\":\"white\",\"showbackground\":true,\"ticks\":\"\",\"zerolinecolor\":\"white\"}},\"shapedefaults\":{\"line\":{\"color\":\"#2a3f5f\"}},\"ternary\":{\"aaxis\":{\"gridcolor\":\"white\",\"linecolor\":\"white\",\"ticks\":\"\"},\"baxis\":{\"gridcolor\":\"white\",\"linecolor\":\"white\",\"ticks\":\"\"},\"bgcolor\":\"#E5ECF6\",\"caxis\":{\"gridcolor\":\"white\",\"linecolor\":\"white\",\"ticks\":\"\"}},\"title\":{\"x\":0.05},\"xaxis\":{\"automargin\":true,\"gridcolor\":\"white\",\"linecolor\":\"white\",\"ticks\":\"\",\"title\":{\"standoff\":15},\"zerolinecolor\":\"white\",\"zerolinewidth\":2},\"yaxis\":{\"automargin\":true,\"gridcolor\":\"white\",\"linecolor\":\"white\",\"ticks\":\"\",\"title\":{\"standoff\":15},\"zerolinecolor\":\"white\",\"zerolinewidth\":2}}},\"title\":{\"text\":\"Interest Rates, Unemployment, 10y yields, inflation UE, volume sales\"},\"xaxis\":{\"range\":[\"2003-07-01\",\"2020-12-31\"],\"rangeslider\":{\"visible\":true}}},                        {\"responsive\": true}                    ).then(function(){\n",
       "                            \n",
       "var gd = document.getElementById('f7555b34-353d-4d30-af29-073344e8a479');\n",
       "var x = new MutationObserver(function (mutations, observer) {{\n",
       "        var display = window.getComputedStyle(gd).display;\n",
       "        if (!display || display === 'none') {{\n",
       "            console.log([gd, 'removed!']);\n",
       "            Plotly.purge(gd);\n",
       "            observer.disconnect();\n",
       "        }}\n",
       "}});\n",
       "\n",
       "// Listen for the removal of the full notebook cells\n",
       "var notebookContainer = gd.closest('#notebook-container');\n",
       "if (notebookContainer) {{\n",
       "    x.observe(notebookContainer, {childList: true});\n",
       "}}\n",
       "\n",
       "// Listen for the clearing of the current output cell\n",
       "var outputEl = gd.closest('.output');\n",
       "if (outputEl) {{\n",
       "    x.observe(outputEl, {childList: true});\n",
       "}}\n",
       "\n",
       "                        })                };                });            </script>        </div>"
      ]
     },
     "metadata": {},
     "output_type": "display_data"
    }
   ],
   "source": [
    "import plotly.graph_objects as go\n",
    "\n",
    "\n",
    "fig = go.Figure()\n",
    "fig.add_trace(go.Scatter(\n",
    "                x=interest.index,\n",
    "                y=interest['Interest rates - monthly data'],\n",
    "                name=\"interest\",\n",
    "                line_color='deepskyblue',\n",
    "                opacity=0.8))\n",
    "fig.add_trace(go.Scatter(\n",
    "                x=unemployment.index,\n",
    "                y=unemployment['Unemployment by sex and age – monthly data'],\n",
    "                name=\"unemployment\",\n",
    "                line_color='red',\n",
    "                opacity=0.8))\n",
    "fig.add_trace(go.Scatter(\n",
    "                x=euro_yields_10y.index,\n",
    "                y=euro_yields_10y['Euro yield curves - monthly data'],\n",
    "                name=\"euro_yields_10y\",\n",
    "                line_color='green',\n",
    "                opacity=0.8))\n",
    "fig.add_trace(go.Scatter(\n",
    "                x=inflation.index,\n",
    "                y=inflation['World Development Indicators'],\n",
    "                name=\"inflation\",\n",
    "                line_color='orange',\n",
    "                opacity=0.8))\n",
    "\n",
    "fig.add_trace(go.Scatter(\n",
    "                x=GDPgrowth.index,\n",
    "                y=GDPgrowth['World Development Indicators'],\n",
    "                name=\"GDP growth\",\n",
    "                line_color='pink',\n",
    "                opacity=0.8))\n",
    "\n",
    "fig.add_trace(go.Scatter(\n",
    "                x=monthly_change_retail_trade.index,\n",
    "                y=monthly_change_retail_trade['Turnover and volume of sales in wholesale and retail trade - monthly data'],\n",
    "                name=\"% Monthly Change Volume Sales\",\n",
    "                line_color='black',\n",
    "                opacity=0.8))\n",
    "\n",
    "# Use date string to set xaxis range\n",
    "fig.update_layout(xaxis_range=['2003-07-01','2020-12-31'],\n",
    "                  title_text=\"Interest Rates, Unemployment, 10y yields, inflation UE, volume sales\",xaxis_rangeslider_visible=True)\n",
    "\n",
    "\n",
    "fig.show()"
   ]
  },
  {
   "cell_type": "code",
   "execution_count": null,
   "id": "broken-million",
   "metadata": {},
   "outputs": [],
   "source": []
  }
 ],
 "metadata": {
  "kernelspec": {
   "display_name": "Python 3",
   "language": "python",
   "name": "python3"
  },
  "language_info": {
   "codemirror_mode": {
    "name": "ipython",
    "version": 3
   },
   "file_extension": ".py",
   "mimetype": "text/x-python",
   "name": "python",
   "nbconvert_exporter": "python",
   "pygments_lexer": "ipython3",
   "version": "3.9.2"
  }
 },
 "nbformat": 4,
 "nbformat_minor": 5
}
